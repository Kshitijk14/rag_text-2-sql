{
  "cells": [
    {
      "cell_type": "code",
      "execution_count": null,
      "id": "a5c0fcb2-b079-48f2-8c54-bf5c66940173",
      "metadata": {
        "id": "a5c0fcb2-b079-48f2-8c54-bf5c66940173",
        "outputId": "e8eefac0-5d06-46c5-89af-0de57363db2e"
      },
      "outputs": [
        {
          "name": "stdout",
          "output_type": "stream",
          "text": [
            "Indexing rows in table: Academy_Awards_1972\n",
            "Indexing rows in table: Actress_Awards\n",
            "Indexing rows in table: Actress_Awards_Table\n",
            "Indexing rows in table: Actress_Filmography\n",
            "Indexing rows in table: Afrikaans_Language_Translations\n",
            "Indexing rows in table: Airport_Information\n",
            "Indexing rows in table: Average_Temperature_Precipitation\n",
            "Indexing rows in table: Average_Temperature_and_Precipitation\n",
            "Indexing rows in table: BBC_Radio_Costs\n",
            "Indexing rows in table: Bad_Boy_Artists\n",
            "Indexing rows in table: Boxing_Matches\n",
            "Indexing rows in table: Club_Performance_Norway\n",
            "Indexing rows in table: Disappeared_Persons\n",
            "Indexing rows in table: Drop Events\n",
            "Indexing rows in table: European_Football_Standings\n",
            "Indexing rows in table: Football_Team_Records\n",
            "Indexing rows in table: Gortynia_Municipalities\n",
            "Indexing rows in table: Grammy_Awards\n",
            "Indexing rows in table: Italian_Presidents\n",
            "Indexing rows in table: Kentucky_Derby_Winners\n",
            "Indexing rows in table: Kinase_Cancer_Relationships\n",
            "Indexing rows in table: Kodachrome_Film\n",
            "Indexing rows in table: New_Mexico_Officials\n",
            "Indexing rows in table: Number_Encoding_Probability\n",
            "Indexing rows in table: Peak_Chart_Positions\n",
            "Indexing rows in table: Political Positions of Lord Beaverbrook\n",
            "Indexing rows in table: Radio_Stations\n",
            "Indexing rows in table: Renaissance_Discography\n",
            "Indexing rows in table: Schools_in_Ohio\n",
            "Indexing rows in table: Temperature_and_Precipitation\n",
            "Indexing rows in table: Voter_Party_Statistics\n",
            "Indexing rows in table: Voter_Registration_Statistics\n",
            "Indexing rows in table: Yamato_District_Area_Population\n",
            "Indexing rows in table: Yearly_Deaths_and_Accidents\n"
          ]
        }
      ],
      "source": [
        "from llama_index import VectorStoreIndex, load_index_from_storage\n",
        "from sqlalchemy import text\n",
        "from llama_index.schema import TextNode\n",
        "from llama_index.storage import StorageContext\n",
        "import os\n",
        "from pathlib import Path\n",
        "from typing import Dict\n",
        "\n",
        "\n",
        "def index_all_tables(\n",
        "    sql_database: SQLDatabase, table_index_dir: str = \"table_index_dir\"\n",
        ") -> Dict[str, VectorStoreIndex]:\n",
        "    \"\"\"Index all tables.\"\"\"\n",
        "    if not Path(table_index_dir).exists():\n",
        "        os.makedirs(table_index_dir)\n",
        "\n",
        "    vector_index_dict = {}\n",
        "    engine = sql_database.engine\n",
        "    for table_name in sql_database.get_usable_table_names():\n",
        "        print(f\"Indexing rows in table: {table_name}\")\n",
        "        if not os.path.exists(f\"{table_index_dir}/{table_name}\"):\n",
        "            # get all rows from table\n",
        "            with engine.connect() as conn:\n",
        "                cursor = conn.execute(text(f'SELECT * FROM \"{table_name}\"'))\n",
        "                result = cursor.fetchall()\n",
        "                row_tups = []\n",
        "                for row in result:\n",
        "                    row_tups.append(tuple(row))\n",
        "\n",
        "            # index each row, put into vector store index\n",
        "            nodes = [TextNode(text=str(t)) for t in row_tups]\n",
        "\n",
        "            # put into vector store index (use OpenAIEmbeddings by default)\n",
        "            index = VectorStoreIndex(nodes, service_context=service_context)\n",
        "\n",
        "            # save index\n",
        "            index.set_index_id(\"vector_index\")\n",
        "            index.storage_context.persist(f\"{table_index_dir}/{table_name}\")\n",
        "        else:\n",
        "            # rebuild storage context\n",
        "            storage_context = StorageContext.from_defaults(\n",
        "                persist_dir=f\"{table_index_dir}/{table_name}\"\n",
        "            )\n",
        "            # load index\n",
        "            index = load_index_from_storage(\n",
        "                storage_context, index_id=\"vector_index\", service_context=service_context\n",
        "            )\n",
        "        vector_index_dict[table_name] = index\n",
        "\n",
        "    return vector_index_dict\n",
        "\n",
        "\n",
        "vector_index_dict = index_all_tables(sql_database)"
      ]
    },
    {
      "cell_type": "code",
      "execution_count": null,
      "id": "f06a001a-7e9b-41e4-94f3-019d3009fe6a",
      "metadata": {
        "id": "f06a001a-7e9b-41e4-94f3-019d3009fe6a",
        "outputId": "579cd0b2-cb2a-4b8d-82c2-b91a425b9069"
      },
      "outputs": [
        {
          "name": "stdout",
          "output_type": "stream",
          "text": [
            "('Diddy', 1993, '6')\n"
          ]
        }
      ],
      "source": [
        "test_retriever = vector_index_dict[\"Bad_Boy_Artists\"].as_retriever(\n",
        "    similarity_top_k=1\n",
        ")\n",
        "nodes = test_retriever.retrieve(\"P. Diddy\")\n",
        "print(nodes[0].get_content())"
      ]
    },
    {
      "cell_type": "code",
      "execution_count": null,
      "id": "c54c61a4-87f2-401d-8a3f-955105303883",
      "metadata": {
        "id": "c54c61a4-87f2-401d-8a3f-955105303883",
        "outputId": "8d73da17-42ba-4f53-cc06-89e7118a18e4"
      },
      "outputs": [
        {
          "name": "stdout",
          "output_type": "stream",
          "text": [
            "\u001b[1;3;38;2;155;135;227m> Running module input with input: \n",
            "query: What was the year that The Notorious BIG was signed to Bad Boy?\n",
            "\n",
            "\u001b[0m\u001b[1;3;38;2;155;135;227m> Running module table_retriever with input: \n",
            "input: What was the year that The Notorious BIG was signed to Bad Boy?\n",
            "\n",
            "\u001b[0m\u001b[1;3;38;2;155;135;227m> Running module table_output_parser with input: \n",
            "query_str: What was the year that The Notorious BIG was signed to Bad Boy?\n",
            "table_schema_objs: [SQLTableSchema(table_name='Bad_Boy_Artists', context_str='List of artists signed to Bad Boy Records and their album releases'), SQLTableSchema(table_name='Football_Team_Records', context_str='Summary...\n",
            "\n",
            "\u001b[0m\u001b[1;3;38;2;155;135;227m> Running module text2sql_prompt with input: \n",
            "query_str: What was the year that The Notorious BIG was signed to Bad Boy?\n",
            "schema: Table 'Bad_Boy_Artists' has columns: Act (VARCHAR), Year_signed (INTEGER), _Albums_released_under_Bad_Boy (VARCHAR), and foreign keys: . The table description is: List of artists signed to Bad Boy Rec...\n",
            "\n",
            "\u001b[0m\u001b[1;3;38;2;155;135;227m> Running module text2sql_llm with input: \n",
            "messages: Given an input question, first create a syntactically correct sqlite query to run, then look at the results of the query and return the answer. You can order the results by a relevant column to return...\n",
            "\n",
            "\u001b[0m\u001b[1;3;38;2;155;135;227m> Running module sql_output_parser with input: \n",
            "response: assistant: SELECT Year_signed\n",
            "FROM Bad_Boy_Artists\n",
            "WHERE Act = 'The Notorious B.I.G'\n",
            "SQLResult: 1993\n",
            "Answer: The Notorious BIG was signed to Bad Boy in 1993.\n",
            "\n",
            "\u001b[0m\u001b[1;3;38;2;155;135;227m> Running module sql_retriever with input: \n",
            "input: SELECT Year_signed\n",
            "FROM Bad_Boy_Artists\n",
            "WHERE Act = 'The Notorious B.I.G'\n",
            "\n",
            "\u001b[0m\u001b[1;3;38;2;155;135;227m> Running module response_synthesis_prompt with input: \n",
            "query_str: What was the year that The Notorious BIG was signed to Bad Boy?\n",
            "sql_query: SELECT Year_signed\n",
            "FROM Bad_Boy_Artists\n",
            "WHERE Act = 'The Notorious B.I.G'\n",
            "context_str: [NodeWithScore(node=TextNode(id_='07dd2198-9ce8-427c-8715-3c5278f6af47', embedding=None, metadata={}, excluded_embed_metadata_keys=[], excluded_llm_metadata_keys=[], relationships={}, text='[(1993,)]'...\n",
            "\n",
            "\u001b[0m\u001b[1;3;38;2;155;135;227m> Running module response_synthesis_llm with input: \n",
            "messages: Given an input question, synthesize a response from the query results.\n",
            "Query: What was the year that The Notorious BIG was signed to Bad Boy?\n",
            "SQL: SELECT Year_signed\n",
            "FROM Bad_Boy_Artists\n",
            "WHERE Act = '...\n",
            "\n",
            "\u001b[0massistant: The Notorious BIG was signed to Bad Boy in 1993.\n"
          ]
        }
      ],
      "source": [
        "response = qp.run(\n",
        "    query=\"What was the year that The Notorious BIG was signed to Bad Boy?\"\n",
        ")\n",
        "print(str(response))"
      ]
    }
  ],
  "metadata": {
    "colab": {
      "provenance": []
    },
    "kernelspec": {
      "display_name": "rag",
      "language": "python",
      "name": "python3"
    },
    "language_info": {
      "codemirror_mode": {
        "name": "ipython",
        "version": 3
      },
      "file_extension": ".py",
      "mimetype": "text/x-python",
      "name": "python",
      "nbconvert_exporter": "python",
      "pygments_lexer": "ipython3",
      "version": "3.11.4"
    }
  },
  "nbformat": 4,
  "nbformat_minor": 5
}
