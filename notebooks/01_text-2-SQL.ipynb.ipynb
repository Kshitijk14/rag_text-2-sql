{
  "cells": [
    {
      "cell_type": "markdown",
      "id": "855f9f50-ef38-4069-932a-fb49af02d28e",
      "metadata": {
        "id": "855f9f50-ef38-4069-932a-fb49af02d28e"
      },
      "source": [
        "# Query Pipeline for Advanced Text-to-SQL\n",
        "\n",
        "In this guide we show you how to setup a text-to-SQL pipeline over your data with our [query pipeline](https://docs.llamaindex.ai/en/stable/module_guides/querying/pipeline/root.html) syntax.\n",
        "\n",
        "This gives you flexibility to enhance text-to-SQL with additional techniques. We show these in the below sections:\n",
        "1. **Query-Time Table Retrieval**: Dynamically retrieve relevant tables in the text-to-SQL prompt.\n",
        "2. **Query-Time Sample Row retrieval**: Embed/Index each row, and dynamically retrieve example rows for each table in the text-to-SQL prompt.\n",
        "\n",
        "Our out-of-the box pipelines include our `NLSQLTableQueryEngine` and `SQLTableRetrieverQueryEngine`. (if you want to check out our text-to-SQL guide using these modules, take a look [here](https://docs.llamaindex.ai/en/stable/examples/index_structs/struct_indices/SQLIndexDemo.html)). This guide implements an advanced version of those modules, giving you the utmost flexibility to apply this to your own setting."
      ]
    },
    {
      "cell_type": "markdown",
      "id": "e39cc96c-9fbc-44c3-b57f-017a9aa75473",
      "metadata": {
        "id": "e39cc96c-9fbc-44c3-b57f-017a9aa75473"
      },
      "source": [
        "## Load and Ingest Data\n",
        "\n",
        "\n",
        "### Load Data\n",
        "We use the [WikiTableQuestions dataset](https://ppasupat.github.io/WikiTableQuestions/) (Pasupat and Liang 2015) as our test dataset.\n",
        "\n",
        "We go through all the csv's in one folder, store each in a sqlite database (we will then build an object index over each table schema)."
      ]
    },
    {
      "cell_type": "code",
      "execution_count": 11,
      "id": "6bc8cd21",
      "metadata": {},
      "outputs": [],
      "source": [
        "import requests\n",
        "import zipfile\n",
        "import io\n",
        "import os"
      ]
    },
    {
      "cell_type": "code",
      "execution_count": null,
      "id": "cadfb28c",
      "metadata": {},
      "outputs": [
        {
          "name": "stdout",
          "output_type": "stream",
          "text": [
            "Downloading...\n",
            "Extracting...\n",
            "Done.\n"
          ]
        }
      ],
      "source": [
        "URL = \"https://github.com/ppasupat/WikiTableQuestions/releases/download/v1.0.2/WikiTableQuestions-1.0.2-compact.zip\"\n",
        "\n",
        "OUTPUT_DIR = \"../data\"\n",
        "os.makedirs(OUTPUT_DIR, exist_ok=True)\n",
        "\n",
        "print(\"Downloading...\")\n",
        "response = requests.get(URL)\n",
        "response.raise_for_status()\n",
        "\n",
        "print(\"Extracting...\")\n",
        "with zipfile.ZipFile(io.BytesIO(response.content)) as z:\n",
        "    z.extractall(OUTPUT_DIR)\n",
        "\n",
        "print(\"Done.\")"
      ]
    },
    {
      "cell_type": "code",
      "execution_count": 12,
      "id": "7435b904",
      "metadata": {},
      "outputs": [],
      "source": [
        "import pandas as pd\n",
        "from pathlib import Path"
      ]
    },
    {
      "cell_type": "code",
      "execution_count": 13,
      "id": "5a710f7a-74b4-48c3-98d1-a6d409a7af1a",
      "metadata": {
        "id": "5a710f7a-74b4-48c3-98d1-a6d409a7af1a",
        "outputId": "fb840754-8360-459d-fe4b-bbe92b24475e"
      },
      "outputs": [
        {
          "name": "stdout",
          "output_type": "stream",
          "text": [
            "processing file: ..\\data\\WikiTableQuestions\\csv\\200-csv\\0.csv\n",
            "processing file: ..\\data\\WikiTableQuestions\\csv\\200-csv\\1.csv\n",
            "processing file: ..\\data\\WikiTableQuestions\\csv\\200-csv\\10.csv\n",
            "processing file: ..\\data\\WikiTableQuestions\\csv\\200-csv\\11.csv\n",
            "processing file: ..\\data\\WikiTableQuestions\\csv\\200-csv\\12.csv\n",
            "processing file: ..\\data\\WikiTableQuestions\\csv\\200-csv\\14.csv\n",
            "processing file: ..\\data\\WikiTableQuestions\\csv\\200-csv\\15.csv\n",
            "Error parsing ..\\data\\WikiTableQuestions\\csv\\200-csv\\15.csv: Error tokenizing data. C error: Expected 4 fields in line 16, saw 5\n",
            "\n",
            "processing file: ..\\data\\WikiTableQuestions\\csv\\200-csv\\17.csv\n",
            "Error parsing ..\\data\\WikiTableQuestions\\csv\\200-csv\\17.csv: Error tokenizing data. C error: Expected 6 fields in line 5, saw 7\n",
            "\n",
            "processing file: ..\\data\\WikiTableQuestions\\csv\\200-csv\\18.csv\n",
            "processing file: ..\\data\\WikiTableQuestions\\csv\\200-csv\\20.csv\n",
            "processing file: ..\\data\\WikiTableQuestions\\csv\\200-csv\\22.csv\n",
            "processing file: ..\\data\\WikiTableQuestions\\csv\\200-csv\\24.csv\n",
            "processing file: ..\\data\\WikiTableQuestions\\csv\\200-csv\\25.csv\n",
            "processing file: ..\\data\\WikiTableQuestions\\csv\\200-csv\\26.csv\n",
            "processing file: ..\\data\\WikiTableQuestions\\csv\\200-csv\\28.csv\n",
            "processing file: ..\\data\\WikiTableQuestions\\csv\\200-csv\\29.csv\n",
            "processing file: ..\\data\\WikiTableQuestions\\csv\\200-csv\\3.csv\n",
            "processing file: ..\\data\\WikiTableQuestions\\csv\\200-csv\\30.csv\n",
            "processing file: ..\\data\\WikiTableQuestions\\csv\\200-csv\\31.csv\n",
            "processing file: ..\\data\\WikiTableQuestions\\csv\\200-csv\\32.csv\n",
            "processing file: ..\\data\\WikiTableQuestions\\csv\\200-csv\\33.csv\n",
            "processing file: ..\\data\\WikiTableQuestions\\csv\\200-csv\\34.csv\n",
            "Error parsing ..\\data\\WikiTableQuestions\\csv\\200-csv\\34.csv: Error tokenizing data. C error: Expected 4 fields in line 6, saw 13\n",
            "\n",
            "processing file: ..\\data\\WikiTableQuestions\\csv\\200-csv\\35.csv\n",
            "processing file: ..\\data\\WikiTableQuestions\\csv\\200-csv\\36.csv\n",
            "processing file: ..\\data\\WikiTableQuestions\\csv\\200-csv\\37.csv\n",
            "processing file: ..\\data\\WikiTableQuestions\\csv\\200-csv\\38.csv\n",
            "processing file: ..\\data\\WikiTableQuestions\\csv\\200-csv\\4.csv\n",
            "processing file: ..\\data\\WikiTableQuestions\\csv\\200-csv\\41.csv\n",
            "processing file: ..\\data\\WikiTableQuestions\\csv\\200-csv\\42.csv\n",
            "processing file: ..\\data\\WikiTableQuestions\\csv\\200-csv\\44.csv\n",
            "processing file: ..\\data\\WikiTableQuestions\\csv\\200-csv\\45.csv\n",
            "processing file: ..\\data\\WikiTableQuestions\\csv\\200-csv\\46.csv\n",
            "processing file: ..\\data\\WikiTableQuestions\\csv\\200-csv\\47.csv\n",
            "processing file: ..\\data\\WikiTableQuestions\\csv\\200-csv\\48.csv\n",
            "processing file: ..\\data\\WikiTableQuestions\\csv\\200-csv\\7.csv\n",
            "processing file: ..\\data\\WikiTableQuestions\\csv\\200-csv\\8.csv\n",
            "processing file: ..\\data\\WikiTableQuestions\\csv\\200-csv\\9.csv\n"
          ]
        }
      ],
      "source": [
        "DATA_DIR = Path(\"../data/WikiTableQuestions/csv/200-csv\")\n",
        "CSV_FILES = sorted([f for f in DATA_DIR.glob(\"*.csv\")])\n",
        "dfs = []\n",
        "\n",
        "for csv_file in CSV_FILES:\n",
        "    print(f\"processing file: {csv_file}\")\n",
        "    try:\n",
        "        df = pd.read_csv(csv_file)\n",
        "        dfs.append(df)\n",
        "    except Exception as e:\n",
        "        print(f\"Error parsing {csv_file}: {str(e)}\")"
      ]
    },
    {
      "cell_type": "markdown",
      "id": "c271b986-9ed6-4a8a-a7c2-1dad7a642c06",
      "metadata": {
        "id": "c271b986-9ed6-4a8a-a7c2-1dad7a642c06"
      },
      "source": [
        "### Extract Table Name and Summary from each Table\n",
        "\n",
        "Here we use gpt-3.5 to extract a table name (with underscores) and summary from each table with our Pydantic program."
      ]
    },
    {
      "cell_type": "code",
      "execution_count": 14,
      "id": "4cef9585-87f8-4427-aaca-c0038c289e00",
      "metadata": {
        "id": "4cef9585-87f8-4427-aaca-c0038c289e00",
        "outputId": "03b3f4e4-93cf-4125-b745-a5f190208bbf"
      },
      "outputs": [],
      "source": [
        "TABLEINFO_DIR = \"../data/WikiTableQuestions_TableInfo\"\n",
        "os.makedirs(TABLEINFO_DIR, exist_ok=True)"
      ]
    },
    {
      "cell_type": "code",
      "execution_count": 15,
      "id": "aa90a2e7",
      "metadata": {},
      "outputs": [],
      "source": [
        "from pydantic import BaseModel, Field\n",
        "from llama_index.core import Settings\n",
        "from llama_index.core.program import LLMTextCompletionProgram\n",
        "from llama_index.llms.ollama import Ollama"
      ]
    },
    {
      "cell_type": "code",
      "execution_count": 16,
      "id": "9a81afbf-0870-41b1-baea-017026a1b7d6",
      "metadata": {
        "id": "9a81afbf-0870-41b1-baea-017026a1b7d6"
      },
      "outputs": [],
      "source": [
        "class TableInfo(BaseModel):\n",
        "    \"\"\"Information regarding a structured table.\"\"\"\n",
        "\n",
        "    table_name: str = Field(\n",
        "        ..., description=\"table name (must be underscores and NO spaces)\"\n",
        "    )\n",
        "    table_summary: str = Field(\n",
        "        ..., description=\"short, concise summary/caption of the table\"\n",
        "    )\n",
        "\n",
        "PROMPT_STR = \"\"\"\\\n",
        "Return only a JSON object, with no explanation, no prose, no markdown, and no trailing text.\n",
        "You are to produce **only** a JSON object matching the following exact schema:\n",
        "\n",
        "{\n",
        "    \"table_name\": \"<short_name_in_snake_case_without_spaces>\",\n",
        "    \"table_summary\": \"<short concise caption of the table>\"\n",
        "}\n",
        "\n",
        "Example:\n",
        "{\"table_name\": \"movie_info\", \"table_summary\": \"Summary of movie data\"}\n",
        "\n",
        "Rules:\n",
        "- The table_name must be unique to the table, describe it clearly, and be in snake_case.\n",
        "- Do NOT output a generic table name (e.g., \"table\", \"my_table\").\n",
        "- Do NOT make the table name one of the following: {exclude_table_name_list}.\n",
        "- Do NOT include any keys other than \"table_name\" and \"table_summary\".\n",
        "- Do NOT include extra text before/after the JSON.\n",
        "- Do NOT include any other keys or text before/after the JSON.\n",
        "- Do NOT wrap in ```json.\n",
        "\n",
        "Table:\n",
        "{table_str}\n",
        "\"\"\"\n",
        "\n",
        "Settings.llm = Ollama(\n",
        "    model=\"qwen3:0.6b\", \n",
        "    request_timeout=240,\n",
        "    format=\"json\",\n",
        "    # context_window=1000\n",
        ")\n",
        "\n",
        "program = LLMTextCompletionProgram.from_defaults(\n",
        "    output_cls=TableInfo,\n",
        "    prompt_template_str=PROMPT_STR,\n",
        "    llm=Settings.llm,\n",
        "    # verbose=True,\n",
        ")"
      ]
    },
    {
      "cell_type": "code",
      "execution_count": 17,
      "id": "a105137a",
      "metadata": {},
      "outputs": [],
      "source": [
        "import json\n",
        "import time\n",
        "import re\n",
        "import json as pyjson"
      ]
    },
    {
      "cell_type": "code",
      "execution_count": 19,
      "id": "f50a3c04-d1fb-4964-8f37-741fb98a5249",
      "metadata": {
        "id": "f50a3c04-d1fb-4964-8f37-741fb98a5249"
      },
      "outputs": [
        {
          "name": "stdout",
          "output_type": "stream",
          "text": [
            "Processed table: movie_chart_positions\n",
            "Error with attempt 1: 1 validation error for TableInfo\n",
            "  Invalid JSON: trailing characters at line 1 column 70 [type=json_invalid, input_value='{\"table_name\": \"film_dat...Summary of movie data\"}', input_type=str]\n",
            "    For further information visit https://errors.pydantic.dev/2.11/v/json_invalid\n",
            "Processed table: movie_data\n",
            "Processed table: death_accident_statistics\n",
            "Processed table: award_data_1972\n",
            "Error with attempt 1: 1 validation error for TableInfo\n",
            "  Invalid JSON: trailing characters at line 6 column 1 [type=json_invalid, input_value='{\\n  \"table_name\": \"awar...ata from 1979 onwards\"}', input_type=str]\n",
            "    For further information visit https://errors.pydantic.dev/2.11/v/json_invalid\n",
            "Processed table: award_data\n",
            "Processed table: people_info\n",
            "Processed table: broadcasting_info\n",
            "Processed table: person_info\n",
            "Processed table: chart_positions\n",
            "Processed table: kodachrome_film_info\n",
            "Processed table: bbc_radio_costs\n",
            "Processed table: airport_locations\n",
            "Processed table: party_voters\n",
            "Processed table: club_performance\n",
            "Processed table: horse_race_data\n",
            "Processed table: grammy_awards\n",
            "Processed table: boxing_matches\n",
            "Processed table: sports_performance_data\n",
            "Processed table: district_info\n",
            "Processed table: party_data\n",
            "Processed table: movie_data\n",
            "Table name 'movie_data' already exists, skipping this table.\n",
            "Processed table: government_ministers\n",
            "Processed table: new_municipality_old_municipality_seat\n",
            "Processed table: team_performance\n",
            "Processed table: encoding_info\n",
            "Processed table: temperature_data\n",
            "Error with attempt 1: 1 validation error for TableInfo\n",
            "  Invalid JSON: trailing characters at line 1 column 84 [type=json_invalid, input_value='{\"table_name\": \"artist_c...eople\\'s career dates\"}', input_type=str]\n",
            "    For further information visit https://errors.pydantic.dev/2.11/v/json_invalid\n",
            "Processed table: people_terms\n",
            "Processed table: new_mexico_governorships\n",
            "Processed table: weather_statistics\n",
            "Processed table: drop_event_data\n",
            "Processed table: precipitation_data\n",
            "Processed table: afrikaans_language_usage\n",
            "Processed table:  ohio_districts\n",
            "Processed table: gene_functions\n"
          ]
        }
      ],
      "source": [
        "def extract_first_json_block(text: str):\n",
        "    match = re.search(r\"\\{.*\\}\", text, re.S)  # grab first {...} block\n",
        "    if not match:\n",
        "        raise ValueError(\"No JSON object found in output\")\n",
        "    return pyjson.loads(match.group())\n",
        "\n",
        "\n",
        "MAX_RETRIES = 3\n",
        "\n",
        "\n",
        "def _get_tableinfo_with_index(idx: int) -> str:\n",
        "    results_gen = Path(TABLEINFO_DIR).glob(f\"{idx}_*\")\n",
        "    results_list = list(results_gen)\n",
        "    \n",
        "    if len(results_list) == 0:\n",
        "        return None\n",
        "    elif len(results_list) == 1:\n",
        "        path = results_list[0]\n",
        "        json_str = path.read_text(encoding=\"utf-8\")\n",
        "        return TableInfo.model_validate_json(json_str)\n",
        "    else:\n",
        "        raise ValueError(f\"More than one file matching index: {list(results_gen)}\")\n",
        "\n",
        "\n",
        "table_names = set()\n",
        "table_infos = []\n",
        "\n",
        "# for idx, df in enumerate(dfs):\n",
        "#     table_info = _get_tableinfo_with_index(idx)\n",
        "#     if table_info:\n",
        "#         table_infos.append(table_info)\n",
        "#         continue\n",
        "#     else:\n",
        "#         while True:\n",
        "#             df_str = df.head(10).to_csv()\n",
        "            \n",
        "#             for attempt in range(MAX_RETRIES):\n",
        "#                 try:\n",
        "#                     raw_output = program(\n",
        "#                         table_str=df_str,\n",
        "#                         exclude_table_name_list=str(list(table_names)),\n",
        "#                     )\n",
        "                    \n",
        "#                     if isinstance(raw_output, TableInfo):\n",
        "#                         table_info = raw_output\n",
        "#                     elif isinstance(raw_output, dict):\n",
        "#                         table_info = TableInfo(**raw_output)\n",
        "#                     elif isinstance(raw_output, str):\n",
        "#                         parsed_dict = extract_first_json_block(raw_output)\n",
        "#                         table_info = TableInfo(**parsed_dict)\n",
        "#                     else:\n",
        "#                         raise TypeError(f\"Unexpected return type from program(): {type(raw_output)}\")\n",
        "                    \n",
        "#                     break\n",
        "#                 except Exception as e:\n",
        "#                     print(f\"Error with attempt {attempt+1}: {str(e)}\")\n",
        "#                     time.sleep(2)\n",
        "#             else:\n",
        "#                 raise RuntimeError(\"Failed after multiple retries\")\n",
        "            \n",
        "#             table_name = table_info.table_name\n",
        "#             print(f\"Processed table: {table_name}\")\n",
        "#             if table_name not in table_names:\n",
        "#                 table_names.add(table_name)\n",
        "#                 break\n",
        "#             else:\n",
        "#                 # try again\n",
        "#                 print(f\"Table name {table_name} already exists, trying again.\")\n",
        "#                 pass\n",
        "\n",
        "#         out_file = f\"{TABLEINFO_DIR}/{idx}_{table_name}.json\"\n",
        "#         json.dump(table_info.model_dump(), open(out_file, \"w\"))\n",
        "#     table_infos.append(table_info)\n",
        "\n",
        "for idx, df in enumerate(dfs):\n",
        "    table_info = _get_tableinfo_with_index(idx)\n",
        "    if table_info:\n",
        "        table_infos.append(table_info)\n",
        "        continue\n",
        "\n",
        "    df_str = df.head(10).to_csv()\n",
        "\n",
        "    for attempt in range(MAX_RETRIES):\n",
        "        try:\n",
        "            raw_output = program(\n",
        "                table_str=df_str,\n",
        "                exclude_table_name_list=str(list(table_names)),\n",
        "            )\n",
        "\n",
        "            if isinstance(raw_output, TableInfo):\n",
        "                table_info = raw_output\n",
        "            elif isinstance(raw_output, dict):\n",
        "                table_info = TableInfo(**raw_output)\n",
        "            elif isinstance(raw_output, str):\n",
        "                parsed_dict = extract_first_json_block(raw_output)\n",
        "                table_info = TableInfo(**parsed_dict)\n",
        "            else:\n",
        "                raise TypeError(f\"Unexpected return type from program(): {type(raw_output)}\")\n",
        "\n",
        "            table_name = table_info.table_name\n",
        "            print(f\"Processed table: {table_name}\")\n",
        "\n",
        "            if table_name in table_names:\n",
        "                print(f\"Table name '{table_name}' already exists, skipping this table.\")\n",
        "                table_info = None  # don’t append duplicate\n",
        "                break  # skip\n",
        "\n",
        "            # save table info\n",
        "            table_names.add(table_name)\n",
        "            out_file = f\"{TABLEINFO_DIR}/{idx}_{table_name}.json\"\n",
        "            json.dump(table_info.model_dump(), open(out_file, \"w\"))\n",
        "            break  # move to next table\n",
        "\n",
        "        except Exception as e:\n",
        "            print(f\"Error with attempt {attempt+1}: {e}\")\n",
        "            time.sleep(2)\n",
        "\n",
        "    if table_info:\n",
        "        table_infos.append(table_info)"
      ]
    },
    {
      "cell_type": "markdown",
      "id": "2e667fde",
      "metadata": {},
      "source": [
        "To retry for a single index (in needed)"
      ]
    },
    {
      "cell_type": "code",
      "execution_count": null,
      "id": "0a8dd7ea",
      "metadata": {},
      "outputs": [
        {
          "name": "stdout",
          "output_type": "stream",
          "text": [
            "Error with attempt 1: 1 validation error for TableInfo\n",
            "  Invalid JSON: trailing characters at line 1 column 97 [type=json_invalid, input_value='{\"table_name\": \"award_in...n the specified table\"}', input_type=str]\n",
            "    For further information visit https://errors.pydantic.dev/2.11/v/json_invalid\n",
            "Processed table: award_nominations\n"
          ]
        }
      ],
      "source": [
        "# idx = 20\n",
        "# df = dfs[idx]\n",
        "\n",
        "# table_info = _get_tableinfo_with_index(idx)\n",
        "# if table_info:\n",
        "#     table_infos.append(table_info)\n",
        "# else:\n",
        "#     df_str = df.head(20).to_csv()\n",
        "\n",
        "#     for attempt in range(MAX_RETRIES):\n",
        "#         try:\n",
        "#             raw_output = program(\n",
        "#                 table_str=df_str,\n",
        "#                 exclude_table_name_list=str(list(table_names)),\n",
        "#             )\n",
        "\n",
        "#             if isinstance(raw_output, TableInfo):\n",
        "#                 table_info = raw_output\n",
        "#             elif isinstance(raw_output, dict):\n",
        "#                 table_info = TableInfo(**raw_output)\n",
        "#             elif isinstance(raw_output, str):\n",
        "#                 parsed_dict = extract_first_json_block(raw_output)\n",
        "#                 table_info = TableInfo(**parsed_dict)\n",
        "#             else:\n",
        "#                 raise TypeError(f\"Unexpected return type from program(): {type(raw_output)}\")\n",
        "\n",
        "#             table_name = table_info.table_name\n",
        "#             print(f\"Processed table: {table_name}\")\n",
        "\n",
        "#             if table_name in table_names:\n",
        "#                 print(f\"Table name '{table_name}' already exists, skipping this table.\")\n",
        "#                 table_info = None\n",
        "#                 break\n",
        "\n",
        "#             table_names.add(table_name)\n",
        "#             out_file = f\"{TABLEINFO_DIR}/{idx}_{table_name}.json\"\n",
        "#             json.dump(table_info.model_dump(), open(out_file, \"w\"))\n",
        "#             break\n",
        "\n",
        "#         except Exception as e:\n",
        "#             print(f\"Error with attempt {attempt+1}: {e}\")\n",
        "#             time.sleep(2)\n",
        "\n",
        "#     if table_info:\n",
        "#         table_infos.append(table_info)"
      ]
    },
    {
      "cell_type": "markdown",
      "id": "a1cc3230-d14c-4491-b79f-45159708badb",
      "metadata": {
        "id": "a1cc3230-d14c-4491-b79f-45159708badb"
      },
      "source": [
        "### Put Data in SQL Database\n",
        "\n",
        "We use `sqlalchemy`, a popular SQL database toolkit, to load all the tables."
      ]
    },
    {
      "cell_type": "code",
      "execution_count": 20,
      "id": "f36874e4",
      "metadata": {},
      "outputs": [],
      "source": [
        "# put data into sqlite db\n",
        "from sqlalchemy import (\n",
        "    create_engine,\n",
        "    MetaData,\n",
        "    Table,\n",
        "    Column,\n",
        "    String,\n",
        "    Integer,\n",
        ")"
      ]
    },
    {
      "cell_type": "code",
      "execution_count": 25,
      "id": "53544059-de7d-48dd-8e00-89517964852b",
      "metadata": {
        "id": "53544059-de7d-48dd-8e00-89517964852b",
        "outputId": "df224651-1765-4aa7-e841-d58546c20e84"
      },
      "outputs": [
        {
          "name": "stdout",
          "output_type": "stream",
          "text": [
            "Creating table: movie_chart_positions\n",
            "Creating table: movie_data\n",
            "Creating table: death_accident_statistics\n",
            "Creating table: award_data_1972\n",
            "Creating table: award_data\n",
            "Creating table: people_info\n",
            "Creating table: broadcasting_info\n",
            "Creating table: person_info\n",
            "Creating table: chart_positions\n",
            "Creating table: kodachrome_film_info\n",
            "Creating table: bbc_radio_costs\n",
            "Creating table: airport_locations\n",
            "Creating table: party_voters\n",
            "Creating table: club_performance\n",
            "Creating table: horse_race_data\n",
            "Creating table: grammy_awards\n",
            "Creating table: boxing_matches\n",
            "Creating table: sports_performance_data\n",
            "Creating table: district_info\n",
            "Creating table: party_data\n",
            "Creating table: award_nominations\n",
            "Creating table: government_ministers\n",
            "Creating table: new_municipality_old_municipality_seat\n",
            "Creating table: team_performance\n",
            "Creating table: encoding_info\n",
            "Creating table: temperature_data\n",
            "Creating table: people_terms\n",
            "Creating table: new_mexico_governorships\n",
            "Creating table: weather_statistics\n",
            "Creating table: drop_event_data\n",
            "Creating table: precipitation_data\n",
            "Creating table: afrikaans_language_usage\n",
            "Creating table:  ohio_districts\n",
            "Creating table: gene_functions\n"
          ]
        }
      ],
      "source": [
        "# Function to create a sanitized column name\n",
        "def sanitize_column_name(col_name):\n",
        "    # Remove special characters and replace spaces with underscores\n",
        "    return re.sub(r\"\\W+\", \"_\", col_name)\n",
        "\n",
        "\n",
        "# Function to create a table from a DataFrame using SQLAlchemy\n",
        "def create_table_from_dataframe(\n",
        "    df: pd.DataFrame, table_name: str, engine, metadata_obj\n",
        "):\n",
        "    # Sanitize column names\n",
        "    sanitized_columns = {col: sanitize_column_name(col) for col in df.columns}\n",
        "    df = df.rename(columns=sanitized_columns)\n",
        "\n",
        "    # Dynamically create columns based on DataFrame columns and data types\n",
        "    columns = [\n",
        "        Column(col, String if dtype == \"object\" else Integer)\n",
        "        for col, dtype in zip(df.columns, df.dtypes)\n",
        "    ]\n",
        "\n",
        "    # Create a table with the defined columns\n",
        "    table = Table(table_name, metadata_obj, *columns)\n",
        "\n",
        "    # Create the table in the database\n",
        "    metadata_obj.create_all(engine)\n",
        "\n",
        "    # Insert data from DataFrame into the table\n",
        "    with engine.connect() as conn:\n",
        "        for _, row in df.iterrows():\n",
        "            insert_stmt = table.insert().values(**row.to_dict())\n",
        "            conn.execute(insert_stmt)\n",
        "        conn.commit()\n",
        "\n",
        "\n",
        "engine = create_engine(\"sqlite:///:memory:\")\n",
        "metadata_obj = MetaData()\n",
        "for idx, df in enumerate(dfs):\n",
        "    tableinfo = _get_tableinfo_with_index(idx)\n",
        "    if tableinfo is None:\n",
        "        print(f\"[ERROR] No TableInfo for index {idx}\")\n",
        "        continue  # skip this one or handle it differently\n",
        "    print(f\"Creating table: {tableinfo.table_name}\")\n",
        "    create_table_from_dataframe(df, tableinfo.table_name, engine, metadata_obj)"
      ]
    },
    {
      "cell_type": "code",
      "execution_count": 27,
      "id": "f12a34b5-1d91-4e85-a6ce-97adb5ddfa06",
      "metadata": {
        "id": "f12a34b5-1d91-4e85-a6ce-97adb5ddfa06",
        "outputId": "4527a7d1-6b5f-4f89-9a63-e5263f4e4441"
      },
      "outputs": [
        {
          "name": "stderr",
          "output_type": "stream",
          "text": [
            "Existing running Phoenix instance detected! Shutting it down and starting a new instance...\n"
          ]
        },
        {
          "name": "stdout",
          "output_type": "stream",
          "text": [
            "🌍 To view the Phoenix app in your browser, visit http://localhost:6006/\n",
            "📖 For more information on how to use Phoenix, check out https://arize.com/docs/phoenix\n"
          ]
        }
      ],
      "source": [
        "# setup Arize Phoenix for logging/observability\n",
        "import phoenix as px\n",
        "from llama_index.core import set_global_handler\n",
        "\n",
        "px.launch_app()\n",
        "set_global_handler(\"arize_phoenix\")"
      ]
    },
    {
      "cell_type": "markdown",
      "id": "1b5906e7-4e20-4b0a-bc42-615f6b86beb7",
      "metadata": {
        "id": "1b5906e7-4e20-4b0a-bc42-615f6b86beb7"
      },
      "source": [
        "## Advanced Capability 1: Text-to-SQL with Query-Time Table Retrieval.\n",
        "\n",
        "We now show you how to setup an e2e text-to-SQL with table retrieval.\n",
        "\n",
        "### Define Modules\n",
        "\n",
        "Here we define the core modules.\n",
        "1. Object index + retriever to store table schemas\n",
        "2. SQLDatabase object to connect to the above tables + SQLRetriever.\n",
        "3. Text-to-SQL Prompt\n",
        "4. Response synthesis Prompt\n",
        "5. LLM"
      ]
    },
    {
      "cell_type": "markdown",
      "id": "0830ecca-9688-45b7-b011-d6d44d6fc551",
      "metadata": {
        "id": "0830ecca-9688-45b7-b011-d6d44d6fc551"
      },
      "source": [
        "Object index, retriever, SQLDatabase"
      ]
    },
    {
      "cell_type": "code",
      "execution_count": null,
      "id": "8e0a9bbf",
      "metadata": {},
      "outputs": [],
      "source": [
        "from llama_index.core.objects import (\n",
        "    SQLTableNodeMapping,\n",
        "    ObjectIndex,\n",
        "    SQLTableSchema,\n",
        ")\n",
        "from llama_index.core import SQLDatabase, VectorStoreIndex\n",
        "from llama_index.embeddings.huggingface import HuggingFaceEmbedding"
      ]
    },
    {
      "cell_type": "code",
      "execution_count": 34,
      "id": "8a89bc36-a5ac-46bf-b9ae-801f34992019",
      "metadata": {
        "id": "8a89bc36-a5ac-46bf-b9ae-801f34992019"
      },
      "outputs": [
        {
          "name": "stderr",
          "output_type": "stream",
          "text": [
            "Xet Storage is enabled for this repo, but the 'hf_xet' package is not installed. Falling back to regular HTTP download. For better performance, install the package with: `pip install huggingface_hub[hf_xet]` or `pip install hf_xet`\n"
          ]
        }
      ],
      "source": [
        "embed_model = HuggingFaceEmbedding(model_name=\"sentence-transformers/all-MiniLM-L6-v2\")\n",
        "\n",
        "sql_database = SQLDatabase(engine)\n",
        "table_node_mapping = SQLTableNodeMapping(sql_database)\n",
        "\n",
        "table_schema_objs = [\n",
        "    SQLTableSchema(table_name=t.table_name, context_str=t.table_summary)\n",
        "    for t in table_infos\n",
        "]  # add a SQLTableSchema for each table\n",
        "\n",
        "obj_index = ObjectIndex.from_objects(\n",
        "    table_schema_objs,\n",
        "    table_node_mapping,\n",
        "    VectorStoreIndex,\n",
        "    embed_model=embed_model,\n",
        ")\n",
        "obj_retriever = obj_index.as_retriever(similarity_top_k=3)"
      ]
    },
    {
      "cell_type": "markdown",
      "id": "4620fbe4-eac6-4476-b373-0e48dfbd81e0",
      "metadata": {
        "id": "4620fbe4-eac6-4476-b373-0e48dfbd81e0"
      },
      "source": [
        "SQLRetriever + Table Parser"
      ]
    },
    {
      "cell_type": "code",
      "execution_count": 36,
      "id": "33c97f1d",
      "metadata": {},
      "outputs": [],
      "source": [
        "from llama_index.core.retrievers import SQLRetriever\n",
        "from typing import List"
      ]
    },
    {
      "cell_type": "code",
      "execution_count": 37,
      "id": "3e9d68bb-16a5-409c-a406-1432565dde99",
      "metadata": {
        "id": "3e9d68bb-16a5-409c-a406-1432565dde99"
      },
      "outputs": [],
      "source": [
        "sql_retriever = SQLRetriever(sql_database)\n",
        "\n",
        "\n",
        "def get_table_context_str(table_schema_objs: List[SQLTableSchema]):\n",
        "    \"\"\"Get table context string.\"\"\"\n",
        "    context_strs = []\n",
        "    for table_schema_obj in table_schema_objs:\n",
        "        table_info = sql_database.get_single_table_info(\n",
        "            table_schema_obj.table_name\n",
        "        )\n",
        "        if table_schema_obj.context_str:\n",
        "            table_opt_context = \" The table description is: \"\n",
        "            table_opt_context += table_schema_obj.context_str\n",
        "            table_info += table_opt_context\n",
        "\n",
        "        context_strs.append(table_info)\n",
        "    return \"\\n\\n\".join(context_strs)\n",
        "\n",
        "\n",
        "table_parser_component = get_table_context_str(table_schema_objs)"
      ]
    },
    {
      "cell_type": "markdown",
      "id": "830ff35b-72ba-42bc-ab49-14b2efc93d17",
      "metadata": {
        "id": "830ff35b-72ba-42bc-ab49-14b2efc93d17"
      },
      "source": [
        "Text-to-SQL Prompt + Output Parser"
      ]
    },
    {
      "cell_type": "code",
      "execution_count": 39,
      "id": "41ac9520",
      "metadata": {},
      "outputs": [],
      "source": [
        "from llama_index.core.prompts.default_prompts import DEFAULT_TEXT_TO_SQL_PROMPT\n",
        "from llama_index.core.prompts import PromptTemplate\n",
        "# from llama_index.query_pipeline import FnComponent\n",
        "from llama_index.core.tools import FunctionTool\n",
        "from llama_index.core.llms import ChatResponse"
      ]
    },
    {
      "cell_type": "code",
      "execution_count": 40,
      "id": "246b8a28-a5b8-4103-b731-a6c09f8694ed",
      "metadata": {
        "id": "246b8a28-a5b8-4103-b731-a6c09f8694ed",
        "outputId": "479f47f2-f530-4984-d0fe-ded7a02a306e"
      },
      "outputs": [
        {
          "name": "stdout",
          "output_type": "stream",
          "text": [
            "Given an input question, first create a syntactically correct {dialect} query to run, then look at the results of the query and return the answer. You can order the results by a relevant column to return the most interesting examples in the database.\n",
            "\n",
            "Never query for all the columns from a specific table, only ask for a few relevant columns given the question.\n",
            "\n",
            "Pay attention to use only the column names that you can see in the schema description. Be careful to not query for columns that do not exist. Pay attention to which column is in which table. Also, qualify column names with the table name when needed. You are required to use the following format, each taking one line:\n",
            "\n",
            "Question: Question here\n",
            "SQLQuery: SQL Query to run\n",
            "SQLResult: Result of the SQLQuery\n",
            "Answer: Final answer here\n",
            "\n",
            "Only use tables listed below.\n",
            "{schema}\n",
            "\n",
            "Question: {query_str}\n",
            "SQLQuery: \n"
          ]
        }
      ],
      "source": [
        "def parse_response_to_sql(response: ChatResponse) -> str:\n",
        "    \"\"\"Parse response to SQL.\"\"\"\n",
        "    response = response.message.content\n",
        "    sql_query_start = response.find(\"SQLQuery:\")\n",
        "    if sql_query_start != -1:\n",
        "        response = response[sql_query_start:]\n",
        "        # TODO: move to removeprefix after Python 3.9+\n",
        "        if response.startswith(\"SQLQuery:\"):\n",
        "            response = response[len(\"SQLQuery:\") :]\n",
        "    sql_result_start = response.find(\"SQLResult:\")\n",
        "    if sql_result_start != -1:\n",
        "        response = response[:sql_result_start]\n",
        "    return response.strip().strip(\"```\").strip()\n",
        "\n",
        "\n",
        "sql_parser_tool = FunctionTool.from_defaults(fn=parse_response_to_sql)\n",
        "\n",
        "text2sql_prompt = DEFAULT_TEXT_TO_SQL_PROMPT.partial_format(\n",
        "    dialect=engine.dialect.name\n",
        ")\n",
        "print(text2sql_prompt.template)"
      ]
    },
    {
      "cell_type": "markdown",
      "id": "0cf6a211-dd6b-4ffc-b781-0b0c38896e25",
      "metadata": {
        "id": "0cf6a211-dd6b-4ffc-b781-0b0c38896e25"
      },
      "source": [
        "Response Synthesis Prompt"
      ]
    },
    {
      "cell_type": "code",
      "execution_count": 41,
      "id": "a2fe48e8-ffdd-48f8-b59a-d13d973e8a19",
      "metadata": {
        "id": "a2fe48e8-ffdd-48f8-b59a-d13d973e8a19"
      },
      "outputs": [],
      "source": [
        "response_synthesis_prompt_str = (\n",
        "    \"Given an input question, synthesize a response from the query results.\\n\"\n",
        "    \"Query: {query_str}\\n\"\n",
        "    \"SQL: {sql_query}\\n\"\n",
        "    \"SQL Response: {context_str}\\n\"\n",
        "    \"Response: \"\n",
        ")\n",
        "response_synthesis_prompt = PromptTemplate(\n",
        "    response_synthesis_prompt_str,\n",
        ")"
      ]
    },
    {
      "cell_type": "code",
      "execution_count": null,
      "id": "dc0d0a62-beeb-4146-99ee-fbe3875481db",
      "metadata": {
        "id": "dc0d0a62-beeb-4146-99ee-fbe3875481db"
      },
      "outputs": [],
      "source": [
        "# llm = OpenAI(model=\"gpt-3.5-turbo\")\n",
        "\n",
        "Settings.llm = Ollama(\n",
        "    model=\"qwen3:0.6b\", \n",
        "    request_timeout=240,\n",
        "    format=\"json\",\n",
        "    # context_window=1000\n",
        ")"
      ]
    },
    {
      "cell_type": "markdown",
      "id": "d4ad7cc4-763b-4060-8cc3-ac198c6b956c",
      "metadata": {
        "id": "d4ad7cc4-763b-4060-8cc3-ac198c6b956c"
      },
      "source": [
        "### Define Workflow\n",
        "\n",
        "Now that the components are in place, let's define the query pipeline!"
      ]
    },
    {
      "cell_type": "code",
      "execution_count": 75,
      "id": "5aa0966f",
      "metadata": {},
      "outputs": [],
      "source": [
        "from llama_index.core.workflow import Workflow, step, StartEvent, Event, StopEvent\n",
        "\n",
        "\n",
        "class Text2SQLWorkflow(Workflow):\n",
        "    \n",
        "    def __init__(self, **kwargs):\n",
        "        super().__init__(**kwargs)\n",
        "        \n",
        "        self.connect(self.input_step, self.table_retriever_step)\n",
        "        self.connect(self.table_retriever_step, self.table_output_parser_step)\n",
        "        \n",
        "        self.connect(self.input_step, self.text2sql_prompt_step)\n",
        "        self.connect(self.table_output_parser_step, self.text2sql_prompt_step)\n",
        "\n",
        "        self.connect(self.text2sql_prompt_step, self.text2sql_llm_step)\n",
        "        self.connect(self.text2sql_llm_step, self.sql_output_parser_step)\n",
        "        self.connect(self.sql_output_parser_step, self.sql_retriever_step)\n",
        "        \n",
        "        self.connect(self.sql_output_parser_step, self.response_synthesis_prompt_step)\n",
        "        self.connect(self.sql_retriever_step, self.response_synthesis_prompt_step)\n",
        "        self.connect(self.input_step, self.response_synthesis_prompt_step)\n",
        "        \n",
        "        self.connect(self.response_synthesis_prompt_step, self.response_synthesis_llm_step)\n",
        "    \n",
        "    @step()\n",
        "    def input_step(self, event: StartEvent) -> Event:\n",
        "        query = event.payload[\"query\"]\n",
        "        return Event(payload={\"query_str\": query})\n",
        "\n",
        "    @step()\n",
        "    def table_retriever_step(self, event: Event) -> Event:\n",
        "        table_schema_objs = obj_retriever.retrieve(event.payload[\"query_str\"])\n",
        "        return Event(payload={\"tables\": table_schema_objs, **event.payload})\n",
        "\n",
        "    @step()\n",
        "    def table_output_parser_step(self, event: Event) -> Event:\n",
        "        schema_str = get_table_context_str(event.payload[\"tables\"])\n",
        "        return Event(payload={\"schema\": schema_str, **event.payload})\n",
        "\n",
        "    @step()\n",
        "    def text2sql_prompt_step(self, event: Event) -> Event:\n",
        "        prompt = text2sql_prompt.format(\n",
        "            query_str=event.payload[\"query_str\"],\n",
        "            schema=event.payload.get(\"schema\", \"\")\n",
        "        )\n",
        "        return Event(payload={\"t2s_prompt\": prompt, **event.payload})\n",
        "\n",
        "    @step()\n",
        "    def text2sql_llm_step(self, event: Event) -> Event:\n",
        "        sql_query = Settings.llm(event.payload[\"t2s_prompt\"])\n",
        "        return Event(payload={\"sql_query\": sql_query, **event.payload})\n",
        "\n",
        "    @step()\n",
        "    def sql_output_parser_step(self, event: Event) -> Event:\n",
        "        # If needed, parse or clean the SQL\n",
        "        sql_query_clean = event.payload[\"sql_query\"].strip()\n",
        "        return Event(payload={\"sql_query\": sql_query_clean, **event.payload})\n",
        "\n",
        "    @step()\n",
        "    def sql_retriever_step(self, event: Event) -> Event:\n",
        "        results = sql_retriever.retrieve(event.payload[\"sql_query\"])\n",
        "        return Event(payload={\"context_str\": results, **event.payload})\n",
        "\n",
        "    @step()\n",
        "    def response_synthesis_prompt_step(self, event: Event) -> Event:\n",
        "        prompt = response_synthesis_prompt.format(\n",
        "            query_str=event.payload[\"query_str\"],\n",
        "            context_str=event.payload.get(\"context_str\", \"\"),\n",
        "            sql_query=event.payload.get(\"sql_query\", \"\")\n",
        "        )\n",
        "        return Event(payload={\"rs_prompt\": prompt, **event.payload})\n",
        "\n",
        "    @step()\n",
        "    def response_synthesis_llm_step(self, event: Event) -> StopEvent:\n",
        "        answer = Settings.llm(event.payload[\"rs_prompt\"])\n",
        "        return StopEvent(payload={\"answer\": answer})"
      ]
    },
    {
      "cell_type": "code",
      "execution_count": 76,
      "id": "d50f892a",
      "metadata": {},
      "outputs": [
        {
          "ename": "AttributeError",
          "evalue": "'Text2SQLWorkflow' object has no attribute 'connect'",
          "output_type": "error",
          "traceback": [
            "\u001b[31m---------------------------------------------------------------------------\u001b[39m",
            "\u001b[31mAttributeError\u001b[39m                            Traceback (most recent call last)",
            "\u001b[36mCell\u001b[39m\u001b[36m \u001b[39m\u001b[32mIn[76]\u001b[39m\u001b[32m, line 1\u001b[39m\n\u001b[32m----> \u001b[39m\u001b[32m1\u001b[39m workflow = \u001b[43mText2SQLWorkflow\u001b[49m\u001b[43m(\u001b[49m\u001b[43m)\u001b[49m\n",
            "\u001b[36mCell\u001b[39m\u001b[36m \u001b[39m\u001b[32mIn[75]\u001b[39m\u001b[32m, line 9\u001b[39m, in \u001b[36mText2SQLWorkflow.__init__\u001b[39m\u001b[34m(self, **kwargs)\u001b[39m\n\u001b[32m      6\u001b[39m \u001b[38;5;28;01mdef\u001b[39;00m\u001b[38;5;250m \u001b[39m\u001b[34m__init__\u001b[39m(\u001b[38;5;28mself\u001b[39m, **kwargs):\n\u001b[32m      7\u001b[39m     \u001b[38;5;28msuper\u001b[39m().\u001b[34m__init__\u001b[39m(**kwargs)\n\u001b[32m----> \u001b[39m\u001b[32m9\u001b[39m     \u001b[38;5;28;43mself\u001b[39;49m\u001b[43m.\u001b[49m\u001b[43mconnect\u001b[49m(\u001b[38;5;28mself\u001b[39m.input_step, \u001b[38;5;28mself\u001b[39m.table_retriever_step)\n\u001b[32m     10\u001b[39m     \u001b[38;5;28mself\u001b[39m.connect(\u001b[38;5;28mself\u001b[39m.table_retriever_step, \u001b[38;5;28mself\u001b[39m.table_output_parser_step)\n\u001b[32m     12\u001b[39m     \u001b[38;5;28mself\u001b[39m.connect(\u001b[38;5;28mself\u001b[39m.input_step, \u001b[38;5;28mself\u001b[39m.text2sql_prompt_step)\n",
            "\u001b[31mAttributeError\u001b[39m: 'Text2SQLWorkflow' object has no attribute 'connect'"
          ]
        }
      ],
      "source": [
        "workflow = Text2SQLWorkflow()"
      ]
    },
    {
      "cell_type": "markdown",
      "id": "e250a417-42c3-49c2-a037-a282974d5f9a",
      "metadata": {
        "id": "e250a417-42c3-49c2-a037-a282974d5f9a"
      },
      "source": [
        "### Visualize Workflow\n",
        "\n",
        "A really nice property of the query pipeline syntax is you can easily visualize it in a graph via networkx."
      ]
    },
    {
      "cell_type": "code",
      "execution_count": 62,
      "id": "8c5f419c-c128-4b04-b18f-0f8b671ff3a4",
      "metadata": {
        "id": "8c5f419c-c128-4b04-b18f-0f8b671ff3a4",
        "outputId": "713e82d3-ddae-4a41-bd65-0cfd802eae9f"
      },
      "outputs": [
        {
          "name": "stdout",
          "output_type": "stream",
          "text": [
            "Saved text2sql_dag.html successfully.\n"
          ]
        }
      ],
      "source": [
        "import networkx as nx\n",
        "from pyvis.network import Network\n",
        "\n",
        "# Build a directed graph of steps\n",
        "G = nx.DiGraph()\n",
        "\n",
        "# Nodes\n",
        "steps = [\n",
        "    \"input\",\n",
        "    \"table_retriever\",\n",
        "    \"table_output_parser\",\n",
        "    \"text2sql_prompt\",\n",
        "    \"text2sql_llm\",\n",
        "    \"sql_output_parser\",\n",
        "    \"sql_retriever\",\n",
        "    \"response_synthesis_prompt\",\n",
        "    \"response_synthesis_llm\"\n",
        "]\n",
        "G.add_nodes_from(steps)\n",
        "\n",
        "# Edges\n",
        "edges = [\n",
        "    (\"input\", \"table_retriever\"),\n",
        "    (\"table_retriever\", \"table_output_parser\"),\n",
        "    \n",
        "    (\"input\", \"text2sql_prompt\"),\n",
        "    (\"table_output_parser\", \"text2sql_prompt\"),\n",
        "\n",
        "    (\"text2sql_prompt\", \"text2sql_llm\"),\n",
        "    (\"text2sql_llm\", \"sql_output_parser\"),\n",
        "    (\"sql_output_parser\", \"sql_retriever\"),\n",
        "    \n",
        "    (\"sql_output_parser\", \"response_synthesis_prompt\"),\n",
        "    (\"sql_retriever\", \"response_synthesis_prompt\"),\n",
        "    (\"input\", \"response_synthesis_prompt\"),\n",
        "    \n",
        "    (\"response_synthesis_prompt\", \"response_synthesis_llm\")\n",
        "]\n",
        "G.add_edges_from(edges)\n",
        "\n",
        "# Visualize\n",
        "net = Network(notebook=True, cdn_resources=\"in_line\", directed=True)\n",
        "net.from_nx(G)\n",
        "\n",
        "html_content = net.generate_html()\n",
        "with open(\"../outputs/trials/text2sql_dag.html\", \"w\", encoding=\"utf-8\") as f:\n",
        "    f.write(html_content)\n",
        "\n",
        "print(\"Saved text2sql_dag.html successfully.\")"
      ]
    },
    {
      "cell_type": "markdown",
      "id": "b525ef9b-cb94-401e-8fd8-47c94eb3eaa5",
      "metadata": {
        "id": "b525ef9b-cb94-401e-8fd8-47c94eb3eaa5"
      },
      "source": [
        "### Run Some Queries!\n",
        "\n",
        "Now we're ready to run some queries across this entire pipeline."
      ]
    },
    {
      "cell_type": "code",
      "execution_count": null,
      "id": "2e4461a5",
      "metadata": {},
      "outputs": [],
      "source": [
        "\"Show me total sales by region\""
      ]
    },
    {
      "cell_type": "code",
      "execution_count": 70,
      "id": "eede78c9",
      "metadata": {},
      "outputs": [
        {
          "ename": "WorkflowRuntimeError",
          "evalue": "Error in step 'response_synthesis_llm_step': 'rs_prompt'",
          "output_type": "error",
          "traceback": [
            "\u001b[31m---------------------------------------------------------------------------\u001b[39m",
            "\u001b[31mKeyError\u001b[39m                                  Traceback (most recent call last)",
            "\u001b[36mFile \u001b[39m\u001b[32mc:\\Users\\Hp\\Documents\\GitHub\\rag_text-2-sql\\rag\\Lib\\site-packages\\workflows\\context\\context.py:731\u001b[39m, in \u001b[36mContext._step_worker\u001b[39m\u001b[34m(self, name, step, config, stepwise, verbose, checkpoint_callback, run_id, service_manager, resource_manager)\u001b[39m\n\u001b[32m    730\u001b[39m     kwargs.clear()\n\u001b[32m--> \u001b[39m\u001b[32m731\u001b[39m     new_ev = \u001b[38;5;28;01mawait\u001b[39;00m asyncio.get_event_loop().run_in_executor(\n\u001b[32m    732\u001b[39m         \u001b[38;5;28;01mNone\u001b[39;00m, run_task\n\u001b[32m    733\u001b[39m     )\n\u001b[32m    734\u001b[39m \u001b[38;5;28;01mexcept\u001b[39;00m WorkflowDone:\n",
            "\u001b[36mFile \u001b[39m\u001b[32m~\\AppData\\Local\\Programs\\Python\\Python311\\Lib\\concurrent\\futures\\thread.py:58\u001b[39m, in \u001b[36m_WorkItem.run\u001b[39m\u001b[34m(self)\u001b[39m\n\u001b[32m     57\u001b[39m \u001b[38;5;28;01mtry\u001b[39;00m:\n\u001b[32m---> \u001b[39m\u001b[32m58\u001b[39m     result = \u001b[38;5;28;43mself\u001b[39;49m\u001b[43m.\u001b[49m\u001b[43mfn\u001b[49m\u001b[43m(\u001b[49m\u001b[43m*\u001b[49m\u001b[38;5;28;43mself\u001b[39;49m\u001b[43m.\u001b[49m\u001b[43margs\u001b[49m\u001b[43m,\u001b[49m\u001b[43m \u001b[49m\u001b[43m*\u001b[49m\u001b[43m*\u001b[49m\u001b[38;5;28;43mself\u001b[39;49m\u001b[43m.\u001b[49m\u001b[43mkwargs\u001b[49m\u001b[43m)\u001b[49m\n\u001b[32m     59\u001b[39m \u001b[38;5;28;01mexcept\u001b[39;00m \u001b[38;5;167;01mBaseException\u001b[39;00m \u001b[38;5;28;01mas\u001b[39;00m exc:\n",
            "\u001b[36mFile \u001b[39m\u001b[32mc:\\Users\\Hp\\Documents\\GitHub\\rag_text-2-sql\\rag\\Lib\\site-packages\\llama_index_instrumentation\\dispatcher.py:317\u001b[39m, in \u001b[36mDispatcher.span.<locals>.wrapper\u001b[39m\u001b[34m(func, instance, args, kwargs)\u001b[39m\n\u001b[32m    316\u001b[39m \u001b[38;5;28;01mtry\u001b[39;00m:\n\u001b[32m--> \u001b[39m\u001b[32m317\u001b[39m     result = \u001b[43mfunc\u001b[49m\u001b[43m(\u001b[49m\u001b[43m*\u001b[49m\u001b[43margs\u001b[49m\u001b[43m,\u001b[49m\u001b[43m \u001b[49m\u001b[43m*\u001b[49m\u001b[43m*\u001b[49m\u001b[43mkwargs\u001b[49m\u001b[43m)\u001b[49m\n\u001b[32m    318\u001b[39m     \u001b[38;5;28;01mif\u001b[39;00m \u001b[38;5;28misinstance\u001b[39m(result, asyncio.Future):\n\u001b[32m    319\u001b[39m         \u001b[38;5;66;03m# If the result is a Future, wrap it\u001b[39;00m\n",
            "\u001b[36mCell\u001b[39m\u001b[36m \u001b[39m\u001b[32mIn[66]\u001b[39m\u001b[32m, line 73\u001b[39m, in \u001b[36mText2SQLWorkflow.response_synthesis_llm_step\u001b[39m\u001b[34m(self, event)\u001b[39m\n\u001b[32m     71\u001b[39m \u001b[38;5;129m@step\u001b[39m()\n\u001b[32m     72\u001b[39m \u001b[38;5;28;01mdef\u001b[39;00m\u001b[38;5;250m \u001b[39m\u001b[34mresponse_synthesis_llm_step\u001b[39m(\u001b[38;5;28mself\u001b[39m, event: Event) -> StopEvent:\n\u001b[32m---> \u001b[39m\u001b[32m73\u001b[39m     answer = Settings.llm(\u001b[43mevent\u001b[49m\u001b[43m.\u001b[49m\u001b[43mpayload\u001b[49m\u001b[43m[\u001b[49m\u001b[33;43m\"\u001b[39;49m\u001b[33;43mrs_prompt\u001b[39;49m\u001b[33;43m\"\u001b[39;49m\u001b[43m]\u001b[49m)\n\u001b[32m     74\u001b[39m     \u001b[38;5;28;01mreturn\u001b[39;00m StopEvent(payload={\u001b[33m\"\u001b[39m\u001b[33manswer\u001b[39m\u001b[33m\"\u001b[39m: answer})\n",
            "\u001b[31mKeyError\u001b[39m: 'rs_prompt'",
            "\nThe above exception was the direct cause of the following exception:\n",
            "\u001b[31mWorkflowRuntimeError\u001b[39m                      Traceback (most recent call last)",
            "\u001b[36mCell\u001b[39m\u001b[36m \u001b[39m\u001b[32mIn[70]\u001b[39m\u001b[32m, line 1\u001b[39m\n\u001b[32m----> \u001b[39m\u001b[32m1\u001b[39m result = \u001b[38;5;28;01mawait\u001b[39;00m workflow.run(\n\u001b[32m      2\u001b[39m     payload={\u001b[33m\"\u001b[39m\u001b[33mquery\u001b[39m\u001b[33m\"\u001b[39m: \u001b[33m\"\u001b[39m\u001b[33mWhat was the year that The Notorious B.I.G was signed to Bad Boy?\u001b[39m\u001b[33m\"\u001b[39m}\n\u001b[32m      3\u001b[39m )\n\u001b[32m      4\u001b[39m \u001b[38;5;28mprint\u001b[39m(result.payload[\u001b[33m\"\u001b[39m\u001b[33manswer\u001b[39m\u001b[33m\"\u001b[39m])\n",
            "\u001b[36mFile \u001b[39m\u001b[32mc:\\Users\\Hp\\Documents\\GitHub\\rag_text-2-sql\\rag\\Lib\\site-packages\\workflows\\workflow.py:479\u001b[39m, in \u001b[36mWorkflow.run.<locals>._run_workflow\u001b[39m\u001b[34m()\u001b[39m\n\u001b[32m    475\u001b[39m \u001b[38;5;28;01mif\u001b[39;00m exception_raised:\n\u001b[32m    476\u001b[39m     \u001b[38;5;66;03m# cancel the stream\u001b[39;00m\n\u001b[32m    477\u001b[39m     ctx.write_event_to_stream(StopEvent())\n\u001b[32m--> \u001b[39m\u001b[32m479\u001b[39m     \u001b[38;5;28;01mraise\u001b[39;00m exception_raised\n\u001b[32m    481\u001b[39m \u001b[38;5;28;01mif\u001b[39;00m \u001b[38;5;129;01mnot\u001b[39;00m we_done:\n\u001b[32m    482\u001b[39m     \u001b[38;5;66;03m# cancel the stream\u001b[39;00m\n\u001b[32m    483\u001b[39m     ctx.write_event_to_stream(StopEvent())\n",
            "\u001b[36mFile \u001b[39m\u001b[32mc:\\Users\\Hp\\Documents\\GitHub\\rag_text-2-sql\\rag\\Lib\\site-packages\\workflows\\context\\context.py:738\u001b[39m, in \u001b[36mContext._step_worker\u001b[39m\u001b[34m(self, name, step, config, stepwise, verbose, checkpoint_callback, run_id, service_manager, resource_manager)\u001b[39m\n\u001b[32m    736\u001b[39m         \u001b[38;5;28;01mraise\u001b[39;00m\n\u001b[32m    737\u001b[39m     \u001b[38;5;28;01mexcept\u001b[39;00m \u001b[38;5;167;01mException\u001b[39;00m \u001b[38;5;28;01mas\u001b[39;00m e:\n\u001b[32m--> \u001b[39m\u001b[32m738\u001b[39m         \u001b[38;5;28;01mraise\u001b[39;00m WorkflowRuntimeError(\u001b[33mf\u001b[39m\u001b[33m\"\u001b[39m\u001b[33mError in step \u001b[39m\u001b[33m'\u001b[39m\u001b[38;5;132;01m{\u001b[39;00mname\u001b[38;5;132;01m}\u001b[39;00m\u001b[33m'\u001b[39m\u001b[33m: \u001b[39m\u001b[38;5;132;01m{\u001b[39;00me\u001b[38;5;132;01m!s}\u001b[39;00m\u001b[33m\"\u001b[39m) \u001b[38;5;28;01mfrom\u001b[39;00m\u001b[38;5;250m \u001b[39m\u001b[34;01me\u001b[39;00m\n\u001b[32m    740\u001b[39m \u001b[38;5;28;01mif\u001b[39;00m verbose \u001b[38;5;129;01mand\u001b[39;00m name != \u001b[33m\"\u001b[39m\u001b[33m_done\u001b[39m\u001b[33m\"\u001b[39m:\n\u001b[32m    741\u001b[39m     \u001b[38;5;28;01mif\u001b[39;00m new_ev \u001b[38;5;129;01mis\u001b[39;00m \u001b[38;5;129;01mnot\u001b[39;00m \u001b[38;5;28;01mNone\u001b[39;00m:\n",
            "\u001b[31mWorkflowRuntimeError\u001b[39m: Error in step 'response_synthesis_llm_step': 'rs_prompt'"
          ]
        }
      ],
      "source": [
        "result = await workflow.run(\n",
        "    payload={\"query\": \"What was the year that The Notorious B.I.G was signed to Bad Boy?\"}\n",
        ")\n",
        "print(result.payload[\"answer\"])"
      ]
    },
    {
      "cell_type": "code",
      "execution_count": null,
      "id": "39a9231a-54ba-465d-a024-acf94a5baf90",
      "metadata": {
        "id": "39a9231a-54ba-465d-a024-acf94a5baf90",
        "outputId": "67c08464-fbdf-4e00-99ef-f5850965dd81"
      },
      "outputs": [
        {
          "name": "stdout",
          "output_type": "stream",
          "text": [
            "\u001b[1;3;38;2;155;135;227m> Running module input with input: \n",
            "query: What was the year that The Notorious B.I.G was signed to Bad Boy?\n",
            "\n",
            "\u001b[0m\u001b[1;3;38;2;155;135;227m> Running module table_retriever with input: \n",
            "input: What was the year that The Notorious B.I.G was signed to Bad Boy?\n",
            "\n",
            "\u001b[0m\u001b[1;3;38;2;155;135;227m> Running module table_output_parser with input: \n",
            "table_schema_objs: [SQLTableSchema(table_name='Bad_Boy_Artists', context_str='List of artists signed to Bad Boy Records and their album releases'), SQLTableSchema(table_name='Renaissance_Discography', context_str='Summa...\n",
            "\n",
            "\u001b[0m\u001b[1;3;38;2;155;135;227m> Running module text2sql_prompt with input: \n",
            "query_str: What was the year that The Notorious B.I.G was signed to Bad Boy?\n",
            "schema: Table 'Bad_Boy_Artists' has columns: Act (VARCHAR), Year_signed (INTEGER), _Albums_released_under_Bad_Boy (VARCHAR), and foreign keys: . The table description is: List of artists signed to Bad Boy Rec...\n",
            "\n",
            "\u001b[0m\u001b[1;3;38;2;155;135;227m> Running module text2sql_llm with input: \n",
            "messages: Given an input question, first create a syntactically correct sqlite query to run, then look at the results of the query and return the answer. You can order the results by a relevant column to return...\n",
            "\n",
            "\u001b[0m\u001b[1;3;38;2;155;135;227m> Running module sql_output_parser with input: \n",
            "response: assistant: SELECT Year_signed\n",
            "FROM Bad_Boy_Artists\n",
            "WHERE Act = 'The Notorious B.I.G'\n",
            "SQLResult: 1993\n",
            "Answer: The Notorious B.I.G was signed to Bad Boy in 1993.\n",
            "\n",
            "\u001b[0m\u001b[1;3;38;2;155;135;227m> Running module sql_retriever with input: \n",
            "input: SELECT Year_signed\n",
            "FROM Bad_Boy_Artists\n",
            "WHERE Act = 'The Notorious B.I.G'\n",
            "\n",
            "\u001b[0m\u001b[1;3;38;2;155;135;227m> Running module response_synthesis_prompt with input: \n",
            "query_str: What was the year that The Notorious B.I.G was signed to Bad Boy?\n",
            "sql_query: SELECT Year_signed\n",
            "FROM Bad_Boy_Artists\n",
            "WHERE Act = 'The Notorious B.I.G'\n",
            "context_str: [NodeWithScore(node=TextNode(id_='455fe525-086b-47d3-986c-9845b2379555', embedding=None, metadata={}, excluded_embed_metadata_keys=[], excluded_llm_metadata_keys=[], relationships={}, text='[(1993,)]'...\n",
            "\n",
            "\u001b[0m\u001b[1;3;38;2;155;135;227m> Running module response_synthesis_llm with input: \n",
            "messages: Given an input question, synthesize a response from the query results.\n",
            "Query: What was the year that The Notorious B.I.G was signed to Bad Boy?\n",
            "SQL: SELECT Year_signed\n",
            "FROM Bad_Boy_Artists\n",
            "WHERE Act =...\n",
            "\n",
            "\u001b[0massistant: The Notorious B.I.G was signed to Bad Boy in 1993.\n"
          ]
        }
      ],
      "source": [
        "response = qp.run(\n",
        "    query=\"What was the year that The Notorious B.I.G was signed to Bad Boy?\"\n",
        ")\n",
        "print(str(response))"
      ]
    },
    {
      "cell_type": "code",
      "execution_count": null,
      "id": "b70033ca-8d46-4ac5-a2e3-869e5abad0af",
      "metadata": {
        "id": "b70033ca-8d46-4ac5-a2e3-869e5abad0af"
      },
      "outputs": [],
      "source": [
        "response = qp.run(query=\"Who won best director in the 1972 academy awards\")\n",
        "print(str(response))"
      ]
    },
    {
      "cell_type": "code",
      "execution_count": null,
      "id": "23dcfdd6-5a1f-4169-b480-5fc75a9d137e",
      "metadata": {
        "id": "23dcfdd6-5a1f-4169-b480-5fc75a9d137e"
      },
      "outputs": [],
      "source": [
        "response = qp.run(query=\"What was the term of Pasquale Preziosa?\")\n",
        "print(str(response))"
      ]
    },
    {
      "cell_type": "markdown",
      "id": "a0fb1122-a15f-4b13-b8e0-6dd23e4fb893",
      "metadata": {
        "id": "a0fb1122-a15f-4b13-b8e0-6dd23e4fb893"
      },
      "source": [
        "## 2. Advanced Capability 2: Text-to-SQL with Query-Time Row Retrieval (along with Table Retrieval)\n",
        "\n",
        "One problem in the previous example is that if the user asks a query that asks for \"The Notorious BIG\" but the artist is stored as \"The Notorious B.I.G\", then the generated SELECT statement will likely not return any matches.\n",
        "\n",
        "We can alleviate this problem by fetching a small number of example rows per table. A naive option would be to just take the first k rows. Instead, we embed, index, and retrieve k relevant rows given the user query to give the text-to-SQL LLM the most contextually relevant information for SQL generation.\n",
        "\n",
        "We now extend our query pipeline."
      ]
    },
    {
      "cell_type": "code",
      "execution_count": null,
      "id": "5984f5db-7bfe-41ff-9cfe-2cde0e0a5d94",
      "metadata": {
        "id": "5984f5db-7bfe-41ff-9cfe-2cde0e0a5d94"
      },
      "outputs": [],
      "source": [
        "from llama_index.query_pipeline import QueryPipeline as QP\n",
        "from llama_index.service_context import ServiceContext\n",
        "\n",
        "qp = QP(verbose=True)\n",
        "# NOTE: service context will be deprecated in v0.10 (though will still be backwards compatible)\n",
        "service_context = ServiceContext.from_defaults(callback_manager=qp.callback_manager)"
      ]
    },
    {
      "cell_type": "markdown",
      "id": "edee5340-b4f9-4594-b62d-376d1ef8cf75",
      "metadata": {
        "id": "edee5340-b4f9-4594-b62d-376d1ef8cf75"
      },
      "source": [
        "### Index Each Table\n",
        "\n",
        "We embed/index the rows of each table, resulting in one index per table."
      ]
    },
    {
      "cell_type": "code",
      "execution_count": null,
      "id": "a5c0fcb2-b079-48f2-8c54-bf5c66940173",
      "metadata": {
        "id": "a5c0fcb2-b079-48f2-8c54-bf5c66940173",
        "outputId": "e8eefac0-5d06-46c5-89af-0de57363db2e"
      },
      "outputs": [
        {
          "name": "stdout",
          "output_type": "stream",
          "text": [
            "Indexing rows in table: Academy_Awards_1972\n",
            "Indexing rows in table: Actress_Awards\n",
            "Indexing rows in table: Actress_Awards_Table\n",
            "Indexing rows in table: Actress_Filmography\n",
            "Indexing rows in table: Afrikaans_Language_Translations\n",
            "Indexing rows in table: Airport_Information\n",
            "Indexing rows in table: Average_Temperature_Precipitation\n",
            "Indexing rows in table: Average_Temperature_and_Precipitation\n",
            "Indexing rows in table: BBC_Radio_Costs\n",
            "Indexing rows in table: Bad_Boy_Artists\n",
            "Indexing rows in table: Boxing_Matches\n",
            "Indexing rows in table: Club_Performance_Norway\n",
            "Indexing rows in table: Disappeared_Persons\n",
            "Indexing rows in table: Drop Events\n",
            "Indexing rows in table: European_Football_Standings\n",
            "Indexing rows in table: Football_Team_Records\n",
            "Indexing rows in table: Gortynia_Municipalities\n",
            "Indexing rows in table: Grammy_Awards\n",
            "Indexing rows in table: Italian_Presidents\n",
            "Indexing rows in table: Kentucky_Derby_Winners\n",
            "Indexing rows in table: Kinase_Cancer_Relationships\n",
            "Indexing rows in table: Kodachrome_Film\n",
            "Indexing rows in table: New_Mexico_Officials\n",
            "Indexing rows in table: Number_Encoding_Probability\n",
            "Indexing rows in table: Peak_Chart_Positions\n",
            "Indexing rows in table: Political Positions of Lord Beaverbrook\n",
            "Indexing rows in table: Radio_Stations\n",
            "Indexing rows in table: Renaissance_Discography\n",
            "Indexing rows in table: Schools_in_Ohio\n",
            "Indexing rows in table: Temperature_and_Precipitation\n",
            "Indexing rows in table: Voter_Party_Statistics\n",
            "Indexing rows in table: Voter_Registration_Statistics\n",
            "Indexing rows in table: Yamato_District_Area_Population\n",
            "Indexing rows in table: Yearly_Deaths_and_Accidents\n"
          ]
        }
      ],
      "source": [
        "from llama_index import VectorStoreIndex, load_index_from_storage\n",
        "from sqlalchemy import text\n",
        "from llama_index.schema import TextNode\n",
        "from llama_index.storage import StorageContext\n",
        "import os\n",
        "from pathlib import Path\n",
        "from typing import Dict\n",
        "\n",
        "\n",
        "def index_all_tables(\n",
        "    sql_database: SQLDatabase, table_index_dir: str = \"table_index_dir\"\n",
        ") -> Dict[str, VectorStoreIndex]:\n",
        "    \"\"\"Index all tables.\"\"\"\n",
        "    if not Path(table_index_dir).exists():\n",
        "        os.makedirs(table_index_dir)\n",
        "\n",
        "    vector_index_dict = {}\n",
        "    engine = sql_database.engine\n",
        "    for table_name in sql_database.get_usable_table_names():\n",
        "        print(f\"Indexing rows in table: {table_name}\")\n",
        "        if not os.path.exists(f\"{table_index_dir}/{table_name}\"):\n",
        "            # get all rows from table\n",
        "            with engine.connect() as conn:\n",
        "                cursor = conn.execute(text(f'SELECT * FROM \"{table_name}\"'))\n",
        "                result = cursor.fetchall()\n",
        "                row_tups = []\n",
        "                for row in result:\n",
        "                    row_tups.append(tuple(row))\n",
        "\n",
        "            # index each row, put into vector store index\n",
        "            nodes = [TextNode(text=str(t)) for t in row_tups]\n",
        "\n",
        "            # put into vector store index (use OpenAIEmbeddings by default)\n",
        "            index = VectorStoreIndex(nodes, service_context=service_context)\n",
        "\n",
        "            # save index\n",
        "            index.set_index_id(\"vector_index\")\n",
        "            index.storage_context.persist(f\"{table_index_dir}/{table_name}\")\n",
        "        else:\n",
        "            # rebuild storage context\n",
        "            storage_context = StorageContext.from_defaults(\n",
        "                persist_dir=f\"{table_index_dir}/{table_name}\"\n",
        "            )\n",
        "            # load index\n",
        "            index = load_index_from_storage(\n",
        "                storage_context, index_id=\"vector_index\", service_context=service_context\n",
        "            )\n",
        "        vector_index_dict[table_name] = index\n",
        "\n",
        "    return vector_index_dict\n",
        "\n",
        "\n",
        "vector_index_dict = index_all_tables(sql_database)"
      ]
    },
    {
      "cell_type": "code",
      "execution_count": null,
      "id": "f06a001a-7e9b-41e4-94f3-019d3009fe6a",
      "metadata": {
        "id": "f06a001a-7e9b-41e4-94f3-019d3009fe6a",
        "outputId": "579cd0b2-cb2a-4b8d-82c2-b91a425b9069"
      },
      "outputs": [
        {
          "name": "stdout",
          "output_type": "stream",
          "text": [
            "('Diddy', 1993, '6')\n"
          ]
        }
      ],
      "source": [
        "test_retriever = vector_index_dict[\"Bad_Boy_Artists\"].as_retriever(\n",
        "    similarity_top_k=1\n",
        ")\n",
        "nodes = test_retriever.retrieve(\"P. Diddy\")\n",
        "print(nodes[0].get_content())"
      ]
    },
    {
      "cell_type": "markdown",
      "id": "5f598a0a-1a3d-42a7-8640-fc1309d8b387",
      "metadata": {
        "id": "5f598a0a-1a3d-42a7-8640-fc1309d8b387"
      },
      "source": [
        "### Define Expanded Table Parser Component\n",
        "\n",
        "We expand the capability of our `table_parser_component` to not only return the relevant table schemas, but also return relevant rows per table schema.\n",
        "\n",
        "It now takes in both `table_schema_objs` (output of table retriever), but also the original `query_str` which will then be used for vector retrieval of relevant rows."
      ]
    },
    {
      "cell_type": "code",
      "execution_count": null,
      "id": "22340e9c-382c-4b7d-9266-d53a72af3023",
      "metadata": {
        "id": "22340e9c-382c-4b7d-9266-d53a72af3023"
      },
      "outputs": [],
      "source": [
        "from llama_index.retrievers import SQLRetriever\n",
        "from typing import List\n",
        "from llama_index.query_pipeline import FnComponent\n",
        "\n",
        "sql_retriever = SQLRetriever(sql_database)\n",
        "\n",
        "\n",
        "def get_table_context_and_rows_str(\n",
        "    query_str: str, table_schema_objs: List[SQLTableSchema]\n",
        "):\n",
        "    \"\"\"Get table context string.\"\"\"\n",
        "    context_strs = []\n",
        "    for table_schema_obj in table_schema_objs:\n",
        "        # first append table info + additional context\n",
        "        table_info = sql_database.get_single_table_info(\n",
        "            table_schema_obj.table_name\n",
        "        )\n",
        "        if table_schema_obj.context_str:\n",
        "            table_opt_context = \" The table description is: \"\n",
        "            table_opt_context += table_schema_obj.context_str\n",
        "            table_info += table_opt_context\n",
        "\n",
        "        # also lookup vector index to return relevant table rows\n",
        "        vector_retriever = vector_index_dict[\n",
        "            table_schema_obj.table_name\n",
        "        ].as_retriever(similarity_top_k=2)\n",
        "        relevant_nodes = vector_retriever.retrieve(query_str)\n",
        "        if len(relevant_nodes) > 0:\n",
        "            table_row_context = \"\\nHere are some relevant example rows (values in the same order as columns above)\\n\"\n",
        "            for node in relevant_nodes:\n",
        "                table_row_context += str(node.get_content()) + \"\\n\"\n",
        "            table_info += table_row_context\n",
        "\n",
        "        context_strs.append(table_info)\n",
        "    return \"\\n\\n\".join(context_strs)\n",
        "\n",
        "\n",
        "table_parser_component = FnComponent(fn=get_table_context_and_rows_str)"
      ]
    },
    {
      "cell_type": "markdown",
      "id": "ff926459-8161-4405-a2e8-3b074e925748",
      "metadata": {
        "id": "ff926459-8161-4405-a2e8-3b074e925748"
      },
      "source": [
        "### Define Expanded Query Pipeline\n",
        "\n",
        "This looks similar to the query pipeline in section 1, but with an upgraded table_parser_component."
      ]
    },
    {
      "cell_type": "code",
      "execution_count": null,
      "id": "54d654a0-47bf-47c4-b101-97c55463f5fd",
      "metadata": {
        "id": "54d654a0-47bf-47c4-b101-97c55463f5fd"
      },
      "outputs": [],
      "source": [
        "from llama_index.query_pipeline import (\n",
        "    QueryPipeline as QP,\n",
        "    Link,\n",
        "    InputComponent,\n",
        "    CustomQueryComponent,\n",
        ")\n",
        "\n",
        "qp.add_modules({\n",
        "    \"input\": InputComponent(),\n",
        "    \"table_retriever\": obj_retriever,\n",
        "    \"table_output_parser\": table_parser_component,\n",
        "    \"text2sql_prompt\": text2sql_prompt,\n",
        "    \"text2sql_llm\": llm,\n",
        "    \"sql_output_parser\": sql_parser_component,\n",
        "    \"sql_retriever\": sql_retriever,\n",
        "    \"response_synthesis_prompt\": response_synthesis_prompt,\n",
        "    \"response_synthesis_llm\": llm,\n",
        "})"
      ]
    },
    {
      "cell_type": "code",
      "execution_count": null,
      "id": "b0b921b6-b8da-4901-b1a7-a21df6f1ccb1",
      "metadata": {
        "id": "b0b921b6-b8da-4901-b1a7-a21df6f1ccb1"
      },
      "outputs": [],
      "source": [
        "qp.add_link(\"input\", \"table_retriever\")\n",
        "qp.add_link(\"input\", \"table_output_parser\", dest_key=\"query_str\")\n",
        "qp.add_link(\n",
        "    \"table_retriever\", \"table_output_parser\", dest_key=\"table_schema_objs\"\n",
        ")\n",
        "qp.add_link(\"input\", \"text2sql_prompt\", dest_key=\"query_str\")\n",
        "qp.add_link(\"table_output_parser\", \"text2sql_prompt\", dest_key=\"schema\")\n",
        "qp.add_chain(\n",
        "    [\"text2sql_prompt\", \"text2sql_llm\", \"sql_output_parser\", \"sql_retriever\"]\n",
        ")\n",
        "qp.add_link(\n",
        "    \"sql_output_parser\", \"response_synthesis_prompt\", dest_key=\"sql_query\"\n",
        ")\n",
        "qp.add_link(\n",
        "    \"sql_retriever\", \"response_synthesis_prompt\", dest_key=\"context_str\"\n",
        ")\n",
        "qp.add_link(\"input\", \"response_synthesis_prompt\", dest_key=\"query_str\")\n",
        "qp.add_link(\"response_synthesis_prompt\", \"response_synthesis_llm\")"
      ]
    },
    {
      "cell_type": "code",
      "execution_count": null,
      "id": "8a2f78d4-d2cf-460f-a218-c47b7a98a67e",
      "metadata": {
        "id": "8a2f78d4-d2cf-460f-a218-c47b7a98a67e",
        "outputId": "6759b690-54e5-4b83-eaed-0ae429669c48"
      },
      "outputs": [
        {
          "name": "stdout",
          "output_type": "stream",
          "text": [
            "text2sql_dag.html\n"
          ]
        },
        {
          "data": {
            "text/html": [
              "\n",
              "        <iframe\n",
              "            width=\"100%\"\n",
              "            height=\"600px\"\n",
              "            src=\"text2sql_dag.html\"\n",
              "            frameborder=\"0\"\n",
              "            allowfullscreen\n",
              "            \n",
              "        ></iframe>\n",
              "        "
            ],
            "text/plain": [
              "<IPython.lib.display.IFrame at 0x2c56ff1f0>"
            ]
          },
          "execution_count": 37,
          "metadata": {},
          "output_type": "execute_result"
        }
      ],
      "source": [
        "from pyvis.network import Network\n",
        "\n",
        "net = Network(notebook=True, cdn_resources=\"in_line\", directed=True)\n",
        "net.from_nx(qp.dag)\n",
        "net.show(\"text2sql_dag.html\")"
      ]
    },
    {
      "cell_type": "markdown",
      "id": "16400cfc-7a21-45fc-932d-b917ab97babe",
      "metadata": {
        "id": "16400cfc-7a21-45fc-932d-b917ab97babe"
      },
      "source": [
        "### Run Some Queries\n",
        "\n",
        "We can now ask about relevant entries even if it doesn't exactly match the entry in the database."
      ]
    },
    {
      "cell_type": "code",
      "execution_count": null,
      "id": "c54c61a4-87f2-401d-8a3f-955105303883",
      "metadata": {
        "id": "c54c61a4-87f2-401d-8a3f-955105303883",
        "outputId": "8d73da17-42ba-4f53-cc06-89e7118a18e4"
      },
      "outputs": [
        {
          "name": "stdout",
          "output_type": "stream",
          "text": [
            "\u001b[1;3;38;2;155;135;227m> Running module input with input: \n",
            "query: What was the year that The Notorious BIG was signed to Bad Boy?\n",
            "\n",
            "\u001b[0m\u001b[1;3;38;2;155;135;227m> Running module table_retriever with input: \n",
            "input: What was the year that The Notorious BIG was signed to Bad Boy?\n",
            "\n",
            "\u001b[0m\u001b[1;3;38;2;155;135;227m> Running module table_output_parser with input: \n",
            "query_str: What was the year that The Notorious BIG was signed to Bad Boy?\n",
            "table_schema_objs: [SQLTableSchema(table_name='Bad_Boy_Artists', context_str='List of artists signed to Bad Boy Records and their album releases'), SQLTableSchema(table_name='Football_Team_Records', context_str='Summary...\n",
            "\n",
            "\u001b[0m\u001b[1;3;38;2;155;135;227m> Running module text2sql_prompt with input: \n",
            "query_str: What was the year that The Notorious BIG was signed to Bad Boy?\n",
            "schema: Table 'Bad_Boy_Artists' has columns: Act (VARCHAR), Year_signed (INTEGER), _Albums_released_under_Bad_Boy (VARCHAR), and foreign keys: . The table description is: List of artists signed to Bad Boy Rec...\n",
            "\n",
            "\u001b[0m\u001b[1;3;38;2;155;135;227m> Running module text2sql_llm with input: \n",
            "messages: Given an input question, first create a syntactically correct sqlite query to run, then look at the results of the query and return the answer. You can order the results by a relevant column to return...\n",
            "\n",
            "\u001b[0m\u001b[1;3;38;2;155;135;227m> Running module sql_output_parser with input: \n",
            "response: assistant: SELECT Year_signed\n",
            "FROM Bad_Boy_Artists\n",
            "WHERE Act = 'The Notorious B.I.G'\n",
            "SQLResult: 1993\n",
            "Answer: The Notorious BIG was signed to Bad Boy in 1993.\n",
            "\n",
            "\u001b[0m\u001b[1;3;38;2;155;135;227m> Running module sql_retriever with input: \n",
            "input: SELECT Year_signed\n",
            "FROM Bad_Boy_Artists\n",
            "WHERE Act = 'The Notorious B.I.G'\n",
            "\n",
            "\u001b[0m\u001b[1;3;38;2;155;135;227m> Running module response_synthesis_prompt with input: \n",
            "query_str: What was the year that The Notorious BIG was signed to Bad Boy?\n",
            "sql_query: SELECT Year_signed\n",
            "FROM Bad_Boy_Artists\n",
            "WHERE Act = 'The Notorious B.I.G'\n",
            "context_str: [NodeWithScore(node=TextNode(id_='07dd2198-9ce8-427c-8715-3c5278f6af47', embedding=None, metadata={}, excluded_embed_metadata_keys=[], excluded_llm_metadata_keys=[], relationships={}, text='[(1993,)]'...\n",
            "\n",
            "\u001b[0m\u001b[1;3;38;2;155;135;227m> Running module response_synthesis_llm with input: \n",
            "messages: Given an input question, synthesize a response from the query results.\n",
            "Query: What was the year that The Notorious BIG was signed to Bad Boy?\n",
            "SQL: SELECT Year_signed\n",
            "FROM Bad_Boy_Artists\n",
            "WHERE Act = '...\n",
            "\n",
            "\u001b[0massistant: The Notorious BIG was signed to Bad Boy in 1993.\n"
          ]
        }
      ],
      "source": [
        "response = qp.run(\n",
        "    query=\"What was the year that The Notorious BIG was signed to Bad Boy?\"\n",
        ")\n",
        "print(str(response))"
      ]
    },
    {
      "cell_type": "code",
      "execution_count": null,
      "id": "4821ef4a-aeff-4082-ae2c-accef0068c40",
      "metadata": {
        "id": "4821ef4a-aeff-4082-ae2c-accef0068c40"
      },
      "outputs": [],
      "source": []
    }
  ],
  "metadata": {
    "colab": {
      "provenance": []
    },
    "kernelspec": {
      "display_name": "rag",
      "language": "python",
      "name": "python3"
    },
    "language_info": {
      "codemirror_mode": {
        "name": "ipython",
        "version": 3
      },
      "file_extension": ".py",
      "mimetype": "text/x-python",
      "name": "python",
      "nbconvert_exporter": "python",
      "pygments_lexer": "ipython3",
      "version": "3.11.4"
    }
  },
  "nbformat": 4,
  "nbformat_minor": 5
}
