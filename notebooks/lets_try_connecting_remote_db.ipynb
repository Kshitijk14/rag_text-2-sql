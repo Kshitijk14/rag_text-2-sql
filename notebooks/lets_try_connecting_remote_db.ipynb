{
 "cells": [
  {
   "cell_type": "code",
   "execution_count": 1,
   "id": "c0919bd7",
   "metadata": {},
   "outputs": [
    {
     "name": "stdout",
     "output_type": "stream",
     "text": [
      "c:\\Users\\Hp\\Documents\\GitHub\\rag_text-2-sql\\notebooks\n"
     ]
    }
   ],
   "source": [
    "import os \n",
    "\n",
    "\n",
    "print(os.getcwd())"
   ]
  },
  {
   "cell_type": "code",
   "execution_count": 5,
   "id": "7e47a42e",
   "metadata": {},
   "outputs": [
    {
     "name": "stdout",
     "output_type": "stream",
     "text": [
      "c:\\Users\\Hp\\Documents\\GitHub\\rag_text-2-sql\n"
     ]
    }
   ],
   "source": [
    "os.chdir(\"../\")\n",
    "\n",
    "print(os.getcwd())"
   ]
  },
  {
   "cell_type": "code",
   "execution_count": null,
   "id": "ccbca425",
   "metadata": {},
   "outputs": [],
   "source": [
    "from dotenv import load_dotenv\n",
    "\n",
    "\n",
    "load_dotenv(\".env.local\")\n",
    "\n",
    "\n",
    "ORACLE_INSTANT_CLIENT = os.getenv(\"ORACLE_INSTANT_CLIENT\")\n",
    "\n",
    "DGC_DB_USER = os.getenv(\"DGC_DB_USER\")\n",
    "DGC_DB_PASSWORD = os.getenv(\"DGC_DB_PASSWORD\")\n",
    "DGC_DB_HOST = os.getenv(\"DGC_DB_HOST\")\n",
    "DGC_DB_PORT = os.getenv(\"DGC_DB_PORT\")\n",
    "DGC_DB_SERVICE = os.getenv(\"DGC_DB_SERVICE\")"
   ]
  },
  {
   "cell_type": "code",
   "execution_count": null,
   "id": "e1c4bd7b",
   "metadata": {},
   "outputs": [],
   "source": [
    "import oracledb\n",
    "\n",
    "\n",
    "oracledb.init_oracle_client(lib_dir=ORACLE_INSTANT_CLIENT)\n",
    "\n",
    "dsn = oracledb.makedsn(\n",
    "    DGC_DB_HOST, \n",
    "    DGC_DB_PORT, \n",
    "    service_name=DGC_DB_SERVICE\n",
    ")\n",
    "\n",
    "connection_dgc = oracledb.connect(\n",
    "    user=DGC_DB_USER,\n",
    "    password=DGC_DB_PASSWORD,\n",
    "    dsn=dsn\n",
    ")\n",
    "\n",
    "cursor = connection_dgc.cursor()"
   ]
  },
  {
   "cell_type": "code",
   "execution_count": 13,
   "id": "15789c65",
   "metadata": {},
   "outputs": [
    {
     "name": "stdout",
     "output_type": "stream",
     "text": [
      "[(datetime.datetime(2025, 8, 19, 16, 23, 58),)]\n"
     ]
    }
   ],
   "source": [
    "cursor.execute(\"SELECT sysdate FROM dual\")\n",
    "print(cursor.fetchall())"
   ]
  },
  {
   "cell_type": "code",
   "execution_count": 14,
   "id": "40e279a6",
   "metadata": {},
   "outputs": [
    {
     "name": "stdout",
     "output_type": "stream",
     "text": [
      "[('Oracle Database 19c Enterprise Edition Release 19.0.0.0.0 - Production', 'Oracle Database 19c Enterprise Edition Release 19.0.0.0.0 - Production\\nVersion 19.27.0.0.0', 'Oracle Database 19c Enterprise Edition Release 19.0.0.0.0 - Production', 0)]\n"
     ]
    }
   ],
   "source": [
    "cursor.execute(\"SELECT * FROM v$version\")\n",
    "print(cursor.fetchall())"
   ]
  }
 ],
 "metadata": {
  "kernelspec": {
   "display_name": "rag-text-2-sql",
   "language": "python",
   "name": "python3"
  },
  "language_info": {
   "codemirror_mode": {
    "name": "ipython",
    "version": 3
   },
   "file_extension": ".py",
   "mimetype": "text/x-python",
   "name": "python",
   "nbconvert_exporter": "python",
   "pygments_lexer": "ipython3",
   "version": "3.13.7"
  }
 },
 "nbformat": 4,
 "nbformat_minor": 5
}
