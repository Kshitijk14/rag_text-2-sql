{
  "cells": [
    {
      "cell_type": "markdown",
      "id": "855f9f50-ef38-4069-932a-fb49af02d28e",
      "metadata": {
        "id": "855f9f50-ef38-4069-932a-fb49af02d28e"
      },
      "source": [
        "# Query Pipeline for Advanced Text-to-SQL\n",
        "\n",
        "In this guide we show you how to setup a text-to-SQL pipeline over your data with our [query pipeline](https://docs.llamaindex.ai/en/stable/module_guides/querying/pipeline/root.html) syntax.\n",
        "\n",
        "This gives you flexibility to enhance text-to-SQL with additional techniques. We show these in the below sections:\n",
        "1. **Query-Time Table Retrieval**: Dynamically retrieve relevant tables in the text-to-SQL prompt.\n",
        "2. **Query-Time Sample Row retrieval**: Embed/Index each row, and dynamically retrieve example rows for each table in the text-to-SQL prompt.\n",
        "\n",
        "Our out-of-the box pipelines include our `NLSQLTableQueryEngine` and `SQLTableRetrieverQueryEngine`. (if you want to check out our text-to-SQL guide using these modules, take a look [here](https://docs.llamaindex.ai/en/stable/examples/index_structs/struct_indices/SQLIndexDemo.html)). This guide implements an advanced version of those modules, giving you the utmost flexibility to apply this to your own setting."
      ]
    },
    {
      "cell_type": "markdown",
      "id": "e39cc96c-9fbc-44c3-b57f-017a9aa75473",
      "metadata": {
        "id": "e39cc96c-9fbc-44c3-b57f-017a9aa75473"
      },
      "source": [
        "## Load and Ingest Data\n",
        "\n",
        "\n",
        "### Load Data\n",
        "We use the [WikiTableQuestions dataset](https://ppasupat.github.io/WikiTableQuestions/) (Pasupat and Liang 2015) as our test dataset.\n",
        "\n",
        "We go through all the csv's in one folder, store each in a sqlite database (we will then build an object index over each table schema)."
      ]
    },
    {
      "cell_type": "code",
      "execution_count": 17,
      "id": "6bc8cd21",
      "metadata": {},
      "outputs": [],
      "source": [
        "import io, os, time, re, requests, zipfile, json\n",
        "import json as pyjson\n",
        "import pandas as pd\n",
        "from pathlib import Path\n",
        "from typing import List, Dict\n",
        "from pydantic import BaseModel, Field\n",
        "\n",
        "# put data into sqlite db\n",
        "from sqlalchemy import (\n",
        "    create_engine,\n",
        "    text,\n",
        "    MetaData,\n",
        "    Table,\n",
        "    Column,\n",
        "    String,\n",
        "    Integer,\n",
        ")\n",
        "\n",
        "# setup Arize Phoenix for logging/observability\n",
        "import phoenix as px\n",
        "\n",
        "from llama_index.core import (\n",
        "    Settings, \n",
        "    SQLDatabase, \n",
        "    VectorStoreIndex, \n",
        "    load_index_from_storage,\n",
        "    set_global_handler,\n",
        ")\n",
        "from llama_index.core.program import LLMTextCompletionProgram\n",
        "from llama_index.llms.ollama import Ollama\n",
        "from llama_index.core.objects import (\n",
        "    SQLTableNodeMapping,\n",
        "    ObjectIndex,\n",
        "    SQLTableSchema,\n",
        ")\n",
        "from llama_index.embeddings.huggingface import HuggingFaceEmbedding\n",
        "from llama_index.core.retrievers import SQLRetriever\n",
        "from llama_index.core.prompts.default_prompts import DEFAULT_TEXT_TO_SQL_PROMPT\n",
        "from llama_index.core.prompts import PromptTemplate\n",
        "from llama_index.core.tools import FunctionTool\n",
        "from llama_index.core.llms import ChatResponse\n",
        "from llama_index.core.workflow import (\n",
        "    Workflow, \n",
        "    step, \n",
        "    StartEvent, \n",
        "    StopEvent,\n",
        ")\n",
        "from llama_index.core.workflow.events import Event\n",
        "from llama_index.utils.workflow import (\n",
        "    draw_all_possible_flows, \n",
        "    draw_most_recent_execution,\n",
        ")\n",
        "\n",
        "# import networkx as nx\n",
        "# from pyvis.network import Network"
      ]
    },
    {
      "cell_type": "code",
      "execution_count": 2,
      "id": "5a710f7a-74b4-48c3-98d1-a6d409a7af1a",
      "metadata": {
        "id": "5a710f7a-74b4-48c3-98d1-a6d409a7af1a",
        "outputId": "fb840754-8360-459d-fe4b-bbe92b24475e"
      },
      "outputs": [
        {
          "name": "stdout",
          "output_type": "stream",
          "text": [
            "processing file: ..\\data\\WikiTableQuestions\\csv\\200-csv\\0.csv\n",
            "processing file: ..\\data\\WikiTableQuestions\\csv\\200-csv\\1.csv\n",
            "processing file: ..\\data\\WikiTableQuestions\\csv\\200-csv\\10.csv\n",
            "processing file: ..\\data\\WikiTableQuestions\\csv\\200-csv\\11.csv\n",
            "processing file: ..\\data\\WikiTableQuestions\\csv\\200-csv\\12.csv\n",
            "processing file: ..\\data\\WikiTableQuestions\\csv\\200-csv\\14.csv\n",
            "processing file: ..\\data\\WikiTableQuestions\\csv\\200-csv\\15.csv\n",
            "Error parsing ..\\data\\WikiTableQuestions\\csv\\200-csv\\15.csv: Error tokenizing data. C error: Expected 4 fields in line 16, saw 5\n",
            "\n",
            "processing file: ..\\data\\WikiTableQuestions\\csv\\200-csv\\17.csv\n",
            "Error parsing ..\\data\\WikiTableQuestions\\csv\\200-csv\\17.csv: Error tokenizing data. C error: Expected 6 fields in line 5, saw 7\n",
            "\n",
            "processing file: ..\\data\\WikiTableQuestions\\csv\\200-csv\\18.csv\n",
            "processing file: ..\\data\\WikiTableQuestions\\csv\\200-csv\\20.csv\n",
            "processing file: ..\\data\\WikiTableQuestions\\csv\\200-csv\\22.csv\n",
            "processing file: ..\\data\\WikiTableQuestions\\csv\\200-csv\\24.csv\n",
            "processing file: ..\\data\\WikiTableQuestions\\csv\\200-csv\\25.csv\n",
            "processing file: ..\\data\\WikiTableQuestions\\csv\\200-csv\\26.csv\n",
            "processing file: ..\\data\\WikiTableQuestions\\csv\\200-csv\\28.csv\n",
            "processing file: ..\\data\\WikiTableQuestions\\csv\\200-csv\\29.csv\n",
            "processing file: ..\\data\\WikiTableQuestions\\csv\\200-csv\\3.csv\n",
            "processing file: ..\\data\\WikiTableQuestions\\csv\\200-csv\\30.csv\n",
            "processing file: ..\\data\\WikiTableQuestions\\csv\\200-csv\\31.csv\n",
            "processing file: ..\\data\\WikiTableQuestions\\csv\\200-csv\\32.csv\n",
            "processing file: ..\\data\\WikiTableQuestions\\csv\\200-csv\\33.csv\n",
            "processing file: ..\\data\\WikiTableQuestions\\csv\\200-csv\\34.csv\n",
            "Error parsing ..\\data\\WikiTableQuestions\\csv\\200-csv\\34.csv: Error tokenizing data. C error: Expected 4 fields in line 6, saw 13\n",
            "\n",
            "processing file: ..\\data\\WikiTableQuestions\\csv\\200-csv\\35.csv\n",
            "processing file: ..\\data\\WikiTableQuestions\\csv\\200-csv\\36.csv\n",
            "processing file: ..\\data\\WikiTableQuestions\\csv\\200-csv\\37.csv\n",
            "processing file: ..\\data\\WikiTableQuestions\\csv\\200-csv\\38.csv\n",
            "processing file: ..\\data\\WikiTableQuestions\\csv\\200-csv\\4.csv\n",
            "processing file: ..\\data\\WikiTableQuestions\\csv\\200-csv\\41.csv\n",
            "processing file: ..\\data\\WikiTableQuestions\\csv\\200-csv\\42.csv\n",
            "processing file: ..\\data\\WikiTableQuestions\\csv\\200-csv\\44.csv\n",
            "processing file: ..\\data\\WikiTableQuestions\\csv\\200-csv\\45.csv\n",
            "processing file: ..\\data\\WikiTableQuestions\\csv\\200-csv\\46.csv\n",
            "processing file: ..\\data\\WikiTableQuestions\\csv\\200-csv\\47.csv\n",
            "processing file: ..\\data\\WikiTableQuestions\\csv\\200-csv\\48.csv\n",
            "processing file: ..\\data\\WikiTableQuestions\\csv\\200-csv\\7.csv\n",
            "processing file: ..\\data\\WikiTableQuestions\\csv\\200-csv\\8.csv\n",
            "processing file: ..\\data\\WikiTableQuestions\\csv\\200-csv\\9.csv\n"
          ]
        }
      ],
      "source": [
        "DATA_DIR = Path(\"../data/WikiTableQuestions/csv/200-csv\")\n",
        "CSV_FILES = sorted([f for f in DATA_DIR.glob(\"*.csv\")])\n",
        "dfs = []\n",
        "\n",
        "for csv_file in CSV_FILES:\n",
        "    print(f\"processing file: {csv_file}\")\n",
        "    try:\n",
        "        df = pd.read_csv(csv_file)\n",
        "        dfs.append(df)\n",
        "    except Exception as e:\n",
        "        print(f\"Error parsing {csv_file}: {str(e)}\")"
      ]
    },
    {
      "cell_type": "markdown",
      "id": "c271b986-9ed6-4a8a-a7c2-1dad7a642c06",
      "metadata": {
        "id": "c271b986-9ed6-4a8a-a7c2-1dad7a642c06"
      },
      "source": [
        "### Extract Table Name and Summary from each Table\n",
        "\n",
        "Here we use gpt-3.5 to extract a table name (with underscores) and summary from each table with our Pydantic program."
      ]
    },
    {
      "cell_type": "code",
      "execution_count": 3,
      "id": "4cef9585-87f8-4427-aaca-c0038c289e00",
      "metadata": {
        "id": "4cef9585-87f8-4427-aaca-c0038c289e00",
        "outputId": "03b3f4e4-93cf-4125-b745-a5f190208bbf"
      },
      "outputs": [],
      "source": [
        "TABLEINFO_DIR = \"../data/WikiTableQuestions_TableInfo\"\n",
        "os.makedirs(TABLEINFO_DIR, exist_ok=True)"
      ]
    },
    {
      "cell_type": "code",
      "execution_count": 4,
      "id": "9a81afbf-0870-41b1-baea-017026a1b7d6",
      "metadata": {
        "id": "9a81afbf-0870-41b1-baea-017026a1b7d6"
      },
      "outputs": [],
      "source": [
        "class TableInfo(BaseModel):\n",
        "    \"\"\"Information regarding a structured table.\"\"\"\n",
        "\n",
        "    table_name: str = Field(\n",
        "        ..., description=\"table name (must be underscores and NO spaces)\"\n",
        "    )\n",
        "    table_summary: str = Field(\n",
        "        ..., description=\"short, concise summary/caption of the table\"\n",
        "    )\n",
        "\n",
        "PROMPT_STR = \"\"\"\\\n",
        "    Return only a JSON object, with no explanation, no prose, no markdown, and no trailing text.\n",
        "    You are to produce **only** a JSON object matching the following exact schema:\n",
        "\n",
        "    {\n",
        "        \"table_name\": \"<short_name_in_snake_case_without_spaces>\",\n",
        "        \"table_summary\": \"<short concise caption of the table>\"\n",
        "    }\n",
        "\n",
        "    Example:\n",
        "    {\"table_name\": \"movie_info\", \"table_summary\": \"Summary of movie data\"}\n",
        "\n",
        "    Rules:\n",
        "    - The table_name must be unique to the table, describe it clearly, and be in snake_case.\n",
        "    - Do NOT output a generic table name (e.g., \"table\", \"my_table\").\n",
        "    - Do NOT make the table name one of the following: {exclude_table_name_list}.\n",
        "    - Do NOT include any keys other than \"table_name\" and \"table_summary\".\n",
        "    - Do NOT include extra text before/after the JSON.\n",
        "    - Do NOT include any other keys or text before/after the JSON.\n",
        "    - Do NOT wrap in ```json.\n",
        "\n",
        "    Table:\n",
        "    {table_str}\n",
        "\"\"\"\n",
        "\n",
        "Settings.llm = Ollama(\n",
        "    model=\"qwen3:0.6b\", \n",
        "    request_timeout=240,\n",
        "    format=\"json\",\n",
        "    # context_window=1000\n",
        ")\n",
        "\n",
        "program = LLMTextCompletionProgram.from_defaults(\n",
        "    output_cls=TableInfo,\n",
        "    prompt_template_str=PROMPT_STR,\n",
        "    llm=Settings.llm,\n",
        "    # verbose=True,\n",
        ")"
      ]
    },
    {
      "cell_type": "code",
      "execution_count": 5,
      "id": "db30f75b",
      "metadata": {},
      "outputs": [],
      "source": [
        "def extract_first_json_block(text: str):\n",
        "    match = re.search(r\"\\{.*\\}\", text, re.S)  # grab first {...} block\n",
        "    if not match:\n",
        "        raise ValueError(\"No JSON object found in output\")\n",
        "    return pyjson.loads(match.group())\n",
        "\n",
        "\n",
        "MAX_RETRIES = 3\n",
        "\n",
        "\n",
        "def _get_tableinfo_with_index(idx: int) -> str:\n",
        "    results_gen = Path(TABLEINFO_DIR).glob(f\"{idx}_*\")\n",
        "    results_list = list(results_gen)\n",
        "    \n",
        "    if len(results_list) == 0:\n",
        "        return None\n",
        "    elif len(results_list) == 1:\n",
        "        path = results_list[0]\n",
        "        json_str = path.read_text(encoding=\"utf-8\")\n",
        "        return TableInfo.model_validate_json(json_str)\n",
        "    else:\n",
        "        raise ValueError(f\"More than one file matching index: {list(results_gen)}\")"
      ]
    },
    {
      "cell_type": "code",
      "execution_count": 6,
      "id": "f50a3c04-d1fb-4964-8f37-741fb98a5249",
      "metadata": {
        "id": "f50a3c04-d1fb-4964-8f37-741fb98a5249"
      },
      "outputs": [],
      "source": [
        "table_names = set()\n",
        "table_infos = []\n",
        "\n",
        "for idx, df in enumerate(dfs):\n",
        "    table_info = _get_tableinfo_with_index(idx)\n",
        "    if table_info:\n",
        "        table_infos.append(table_info)\n",
        "        continue\n",
        "\n",
        "    df_str = df.head(10).to_csv()\n",
        "\n",
        "    for attempt in range(MAX_RETRIES):\n",
        "        try:\n",
        "            raw_output = program(\n",
        "                table_str=df_str,\n",
        "                exclude_table_name_list=str(list(table_names)),\n",
        "            )\n",
        "\n",
        "            if isinstance(raw_output, TableInfo):\n",
        "                table_info = raw_output\n",
        "            elif isinstance(raw_output, dict):\n",
        "                table_info = TableInfo(**raw_output)\n",
        "            elif isinstance(raw_output, str):\n",
        "                parsed_dict = extract_first_json_block(raw_output)\n",
        "                table_info = TableInfo(**parsed_dict)\n",
        "            else:\n",
        "                raise TypeError(f\"Unexpected return type from program(): {type(raw_output)}\")\n",
        "\n",
        "            table_name = table_info.table_name\n",
        "            print(f\"Processed table: {table_name}\")\n",
        "\n",
        "            if table_name in table_names:\n",
        "                print(f\"Table name '{table_name}' already exists, skipping this table.\")\n",
        "                table_info = None  # don’t append duplicate\n",
        "                break  # skip\n",
        "\n",
        "            # save table info\n",
        "            table_names.add(table_name)\n",
        "            out_file = f\"{TABLEINFO_DIR}/{idx}_{table_name}.json\"\n",
        "            json.dump(table_info.model_dump(), open(out_file, \"w\"))\n",
        "            break  # move to next table\n",
        "\n",
        "        except Exception as e:\n",
        "            print(f\"Error with attempt {attempt+1}: {e}\")\n",
        "            time.sleep(2)\n",
        "\n",
        "    if table_info:\n",
        "        table_infos.append(table_info)"
      ]
    },
    {
      "cell_type": "markdown",
      "id": "a1cc3230-d14c-4491-b79f-45159708badb",
      "metadata": {
        "id": "a1cc3230-d14c-4491-b79f-45159708badb"
      },
      "source": [
        "### Put Data in SQL Database\n",
        "\n",
        "We use `sqlalchemy`, a popular SQL database toolkit, to load all the tables."
      ]
    },
    {
      "cell_type": "code",
      "execution_count": 7,
      "id": "53544059-de7d-48dd-8e00-89517964852b",
      "metadata": {
        "id": "53544059-de7d-48dd-8e00-89517964852b",
        "outputId": "df224651-1765-4aa7-e841-d58546c20e84"
      },
      "outputs": [
        {
          "name": "stdout",
          "output_type": "stream",
          "text": [
            "Creating table: movie_chart_positions\n",
            "Creating table: movie_data\n",
            "Creating table: death_accident_statistics\n",
            "Creating table: award_data_1972\n",
            "Creating table: award_data\n",
            "Creating table: people_info\n",
            "Creating table: broadcasting_info\n",
            "Creating table: person_info\n",
            "Creating table: chart_positions\n",
            "Creating table: kodachrome_film_info\n",
            "Creating table: bbc_radio_costs\n",
            "Creating table: airport_locations\n",
            "Creating table: party_voters\n",
            "Creating table: club_performance\n",
            "Creating table: horse_race_data\n",
            "Creating table: grammy_awards\n",
            "Creating table: boxing_matches\n",
            "Creating table: sports_performance_data\n",
            "Creating table: district_info\n",
            "Creating table: party_data\n",
            "Creating table: award_nominations\n",
            "Creating table: government_ministers\n",
            "Creating table: new_municipality_old_municipality_seat\n",
            "Creating table: team_performance\n",
            "Creating table: encoding_info\n",
            "Creating table: temperature_data\n",
            "Creating table: people_terms\n",
            "Creating table: new_mexico_governorships\n",
            "Creating table: weather_statistics\n",
            "Creating table: drop_event_data\n",
            "Creating table: precipitation_data\n",
            "Creating table: afrikaans_language_usage\n",
            "Creating table:  ohio_districts\n",
            "Creating table: gene_functions\n"
          ]
        }
      ],
      "source": [
        "# Function to create a sanitized column name\n",
        "def sanitize_column_name(col_name):\n",
        "    # Remove special characters and replace spaces with underscores\n",
        "    return re.sub(r\"\\W+\", \"_\", col_name)\n",
        "\n",
        "\n",
        "# Function to create a table from a DataFrame using SQLAlchemy\n",
        "def create_table_from_dataframe(\n",
        "    df: pd.DataFrame, table_name: str, engine, metadata_obj\n",
        "):\n",
        "    # Sanitize column names\n",
        "    sanitized_columns = {col: sanitize_column_name(col) for col in df.columns}\n",
        "    df = df.rename(columns=sanitized_columns)\n",
        "\n",
        "    # Dynamically create columns based on DataFrame columns and data types\n",
        "    columns = [\n",
        "        Column(col, String if dtype == \"object\" else Integer)\n",
        "        for col, dtype in zip(df.columns, df.dtypes)\n",
        "    ]\n",
        "\n",
        "    # Create a table with the defined columns\n",
        "    table = Table(table_name, metadata_obj, *columns)\n",
        "\n",
        "    # Create the table in the database\n",
        "    metadata_obj.create_all(engine)\n",
        "\n",
        "    # Insert data from DataFrame into the table\n",
        "    with engine.connect() as conn:\n",
        "        for _, row in df.iterrows():\n",
        "            insert_stmt = table.insert().values(**row.to_dict())\n",
        "            conn.execute(insert_stmt)\n",
        "        conn.commit()\n",
        "\n",
        "\n",
        "engine = create_engine(\"sqlite:///:memory:\")\n",
        "metadata_obj = MetaData()\n",
        "for idx, df in enumerate(dfs):\n",
        "    tableinfo = _get_tableinfo_with_index(idx)\n",
        "    if tableinfo is None:\n",
        "        print(f\"[ERROR] No TableInfo for index {idx}\")\n",
        "        continue  # skip this one or handle it differently\n",
        "    print(f\"Creating table: {tableinfo.table_name}\")\n",
        "    create_table_from_dataframe(df, tableinfo.table_name, engine, metadata_obj)"
      ]
    },
    {
      "cell_type": "code",
      "execution_count": 59,
      "id": "f12a34b5-1d91-4e85-a6ce-97adb5ddfa06",
      "metadata": {
        "id": "f12a34b5-1d91-4e85-a6ce-97adb5ddfa06",
        "outputId": "4527a7d1-6b5f-4f89-9a63-e5263f4e4441"
      },
      "outputs": [
        {
          "name": "stderr",
          "output_type": "stream",
          "text": [
            "Existing running Phoenix instance detected! Shutting it down and starting a new instance...\n",
            "Attempting to instrument while already instrumented\n"
          ]
        },
        {
          "name": "stdout",
          "output_type": "stream",
          "text": [
            "🌍 To view the Phoenix app in your browser, visit http://localhost:6006/\n",
            "📖 For more information on how to use Phoenix, check out https://arize.com/docs/phoenix\n"
          ]
        }
      ],
      "source": [
        "px.launch_app()\n",
        "set_global_handler(\"arize_phoenix\")"
      ]
    },
    {
      "cell_type": "markdown",
      "id": "1b5906e7-4e20-4b0a-bc42-615f6b86beb7",
      "metadata": {
        "id": "1b5906e7-4e20-4b0a-bc42-615f6b86beb7"
      },
      "source": [
        "### Define Modules\n",
        "\n",
        "Here we define the core modules.\n",
        "1. Object index + retriever to store table schemas\n",
        "2. SQLDatabase object to connect to the above tables + SQLRetriever.\n",
        "3. Text-to-SQL Prompt\n",
        "4. Response synthesis Prompt\n",
        "5. LLM"
      ]
    },
    {
      "cell_type": "markdown",
      "id": "0830ecca-9688-45b7-b011-d6d44d6fc551",
      "metadata": {
        "id": "0830ecca-9688-45b7-b011-d6d44d6fc551"
      },
      "source": [
        "Object index, retriever, SQLDatabase"
      ]
    },
    {
      "cell_type": "code",
      "execution_count": 8,
      "id": "8a89bc36-a5ac-46bf-b9ae-801f34992019",
      "metadata": {
        "id": "8a89bc36-a5ac-46bf-b9ae-801f34992019"
      },
      "outputs": [],
      "source": [
        "embed_model = HuggingFaceEmbedding(model_name=\"sentence-transformers/all-MiniLM-L6-v2\")\n",
        "\n",
        "sql_database = SQLDatabase(engine)\n",
        "table_node_mapping = SQLTableNodeMapping(sql_database)\n",
        "\n",
        "table_schema_objs = [\n",
        "    SQLTableSchema(table_name=t.table_name, context_str=t.table_summary)\n",
        "    for t in table_infos\n",
        "]  # add a SQLTableSchema for each table\n",
        "\n",
        "obj_index = ObjectIndex.from_objects(\n",
        "    table_schema_objs,\n",
        "    table_node_mapping,\n",
        "    VectorStoreIndex,\n",
        "    embed_model=embed_model,\n",
        ")\n",
        "obj_retriever = obj_index.as_retriever(similarity_top_k=5)"
      ]
    },
    {
      "cell_type": "markdown",
      "id": "4620fbe4-eac6-4476-b373-0e48dfbd81e0",
      "metadata": {
        "id": "4620fbe4-eac6-4476-b373-0e48dfbd81e0"
      },
      "source": [
        "SQLRetriever + Table Parser"
      ]
    },
    {
      "cell_type": "code",
      "execution_count": 9,
      "id": "3e9d68bb-16a5-409c-a406-1432565dde99",
      "metadata": {
        "id": "3e9d68bb-16a5-409c-a406-1432565dde99"
      },
      "outputs": [],
      "source": [
        "sql_retriever = SQLRetriever(sql_database)\n",
        "\n",
        "\n",
        "def get_table_context_str(table_schema_objs: List[SQLTableSchema]):\n",
        "    \"\"\"Get table context string.\"\"\"\n",
        "    context_strs = []\n",
        "    for table_schema_obj in table_schema_objs:\n",
        "        table_info = sql_database.get_single_table_info(\n",
        "            table_schema_obj.table_name\n",
        "        )\n",
        "        if table_schema_obj.context_str:\n",
        "            table_opt_context = \" The table description is: \"\n",
        "            table_opt_context += table_schema_obj.context_str\n",
        "            table_info += table_opt_context\n",
        "\n",
        "        context_strs.append(table_info)\n",
        "    return \"\\n\\n\".join(context_strs)\n",
        "\n",
        "\n",
        "table_parser_component = get_table_context_str(table_schema_objs)"
      ]
    },
    {
      "cell_type": "markdown",
      "id": "830ff35b-72ba-42bc-ab49-14b2efc93d17",
      "metadata": {
        "id": "830ff35b-72ba-42bc-ab49-14b2efc93d17"
      },
      "source": [
        "Text-to-SQL Prompt + Output Parser"
      ]
    },
    {
      "cell_type": "code",
      "execution_count": 10,
      "id": "246b8a28-a5b8-4103-b731-a6c09f8694ed",
      "metadata": {
        "id": "246b8a28-a5b8-4103-b731-a6c09f8694ed",
        "outputId": "479f47f2-f530-4984-d0fe-ded7a02a306e"
      },
      "outputs": [
        {
          "name": "stdout",
          "output_type": "stream",
          "text": [
            "Given an input question, first create a syntactically correct {dialect} query to run, then look at the results of the query and return the answer. You can order the results by a relevant column to return the most interesting examples in the database.\n",
            "\n",
            "Never query for all the columns from a specific table, only ask for a few relevant columns given the question.\n",
            "\n",
            "Pay attention to use only the column names that you can see in the schema description. Be careful to not query for columns that do not exist. Pay attention to which column is in which table. Also, qualify column names with the table name when needed. You are required to use the following format, each taking one line:\n",
            "\n",
            "Question: Question here\n",
            "SQLQuery: SQL Query to run\n",
            "SQLResult: Result of the SQLQuery\n",
            "Answer: Final answer here\n",
            "\n",
            "Only use tables listed below.\n",
            "{schema}\n",
            "\n",
            "Question: {query_str}\n",
            "SQLQuery: \n"
          ]
        }
      ],
      "source": [
        "def parse_response_to_sql(response: ChatResponse) -> str:\n",
        "    \"\"\"Parse response to SQL.\"\"\"\n",
        "    response = response.message.content\n",
        "    sql_query_start = response.find(\"SQLQuery:\")\n",
        "    if sql_query_start != -1:\n",
        "        response = response[sql_query_start:]\n",
        "        \n",
        "        if response.startswith(\"SQLQuery:\"):\n",
        "            response = response[len(\"SQLQuery:\") :]\n",
        "    sql_result_start = response.find(\"SQLResult:\")\n",
        "    if sql_result_start != -1:\n",
        "        response = response[:sql_result_start]\n",
        "    return response.strip().strip(\"```\").strip()\n",
        "\n",
        "\n",
        "sql_parser_tool = FunctionTool.from_defaults(fn=parse_response_to_sql)\n",
        "\n",
        "text2sql_prompt = DEFAULT_TEXT_TO_SQL_PROMPT.partial_format(\n",
        "    dialect=engine.dialect.name\n",
        ")\n",
        "print(text2sql_prompt.template)"
      ]
    },
    {
      "cell_type": "markdown",
      "id": "0cf6a211-dd6b-4ffc-b781-0b0c38896e25",
      "metadata": {
        "id": "0cf6a211-dd6b-4ffc-b781-0b0c38896e25"
      },
      "source": [
        "Response Synthesis Prompt"
      ]
    },
    {
      "cell_type": "code",
      "execution_count": 11,
      "id": "a2fe48e8-ffdd-48f8-b59a-d13d973e8a19",
      "metadata": {
        "id": "a2fe48e8-ffdd-48f8-b59a-d13d973e8a19"
      },
      "outputs": [],
      "source": [
        "response_synthesis_prompt_str = (\n",
        "    \"Given an input question, synthesize a response from the query results.\\n\"\n",
        "    \"Query: {query_str}\\n\"\n",
        "    \"SQL: {sql_query}\\n\"\n",
        "    \"SQL Response: {context_str}\\n\"\n",
        "    \"Response: \"\n",
        ")\n",
        "response_synthesis_prompt = PromptTemplate(\n",
        "    response_synthesis_prompt_str,\n",
        ")"
      ]
    },
    {
      "cell_type": "markdown",
      "id": "1fda34ab",
      "metadata": {},
      "source": [
        "## Advanced Capability 2: Text-to-SQL with Query-Time Row Retrieval (along with Table Retrieval)\n",
        "\n",
        "One problem in the previous example is that if the user asks a query that asks for \"The Notorious BIG\" but the artist is stored as \"The Notorious B.I.G\", then the generated SELECT statement will likely not return any matches.\n",
        "\n",
        "We can alleviate this problem by fetching a small number of example rows per table. A naive option would be to just take the first k rows. Instead, we embed, index, and retrieve k relevant rows given the user query to give the text-to-SQL LLM the most contextually relevant information for SQL generation.\n",
        "\n",
        "We now extend our query pipeline."
      ]
    },
    {
      "cell_type": "code",
      "execution_count": null,
      "id": "58731207",
      "metadata": {},
      "outputs": [],
      "source": [
        "# from llama_index.query_pipeline import QueryPipeline as QP\n",
        "# from llama_index.service_context import ServiceContext\n",
        "\n",
        "# qp = QP(verbose=True)\n",
        "# # NOTE: service context will be deprecated in v0.10 (though will still be backwards compatible)\n",
        "# service_context = ServiceContext.from_defaults(callback_manager=qp.callback_manager)"
      ]
    },
    {
      "cell_type": "code",
      "execution_count": 16,
      "id": "d99d3f4b",
      "metadata": {},
      "outputs": [],
      "source": [
        "from llama_index.core.callbacks import CallbackManager\n",
        "\n",
        "\n",
        "# Step 1: Configure Settings\n",
        "callback_manager = CallbackManager()\n",
        "Settings.callback_manager = callback_manager\n",
        "# Optionally also:\n",
        "# Settings.llm = ...\n",
        "# Settings.embed_model = ...\n",
        "# Settings.prompt_helper = ...\n",
        "# Settings.node_parser = ...\n",
        "\n",
        "# Step 2: Initialize your workflow\n",
        "# workflow = Workflow(verbose=True)\n",
        "# Optionally attach settings or callback manager if needed:\n",
        "# workflow.settings = Settings\n",
        "\n",
        "# Step 3: Build up your workflow by adding components\n",
        "# e.g., workflow.add(...), workflow.link(...), depending on new API\n",
        "\n",
        "# Step 4: Execute\n",
        "# result = workflow.run(input=\"Your query here\")"
      ]
    },
    {
      "cell_type": "markdown",
      "id": "15203320",
      "metadata": {},
      "source": [
        "### Index Each Table\n",
        "\n",
        "We embed/index the rows of each table, resulting in one index per table."
      ]
    },
    {
      "cell_type": "code",
      "execution_count": 20,
      "id": "732a46e6",
      "metadata": {},
      "outputs": [
        {
          "name": "stdout",
          "output_type": "stream",
          "text": [
            "Indexing rows in table:  ohio_districts\n",
            "Indexing rows in table: afrikaans_language_usage\n",
            "Indexing rows in table: airport_locations\n",
            "Indexing rows in table: award_data\n",
            "Indexing rows in table: award_data_1972\n",
            "Indexing rows in table: award_nominations\n",
            "Indexing rows in table: bbc_radio_costs\n",
            "Indexing rows in table: boxing_matches\n",
            "Indexing rows in table: broadcasting_info\n",
            "Indexing rows in table: chart_positions\n",
            "Indexing rows in table: club_performance\n",
            "Indexing rows in table: death_accident_statistics\n",
            "Indexing rows in table: district_info\n",
            "Indexing rows in table: drop_event_data\n",
            "Indexing rows in table: encoding_info\n",
            "Indexing rows in table: gene_functions\n",
            "Indexing rows in table: government_ministers\n",
            "Indexing rows in table: grammy_awards\n",
            "Indexing rows in table: horse_race_data\n",
            "Indexing rows in table: kodachrome_film_info\n",
            "Indexing rows in table: movie_chart_positions\n",
            "Indexing rows in table: movie_data\n",
            "Indexing rows in table: new_mexico_governorships\n",
            "Indexing rows in table: new_municipality_old_municipality_seat\n",
            "Indexing rows in table: party_data\n",
            "Indexing rows in table: party_voters\n",
            "Indexing rows in table: people_info\n",
            "Indexing rows in table: people_terms\n",
            "Indexing rows in table: person_info\n",
            "Indexing rows in table: precipitation_data\n",
            "Indexing rows in table: sports_performance_data\n",
            "Indexing rows in table: team_performance\n",
            "Indexing rows in table: temperature_data\n",
            "Indexing rows in table: weather_statistics\n"
          ]
        }
      ],
      "source": [
        "from llama_index.core.schema import TextNode\n",
        "from llama_index.core.storage import StorageContext\n",
        "\n",
        "\n",
        "Settings.embed_model = HuggingFaceEmbedding(model_name=\"sentence-transformers/all-MiniLM-L6-v2\")\n",
        "\n",
        "\n",
        "def index_all_tables(sql_database, table_index_dir: str = \"../data/table_index_dir\") -> Dict[str, VectorStoreIndex]:\n",
        "    \"\"\"Index all tables in the SQL database.\"\"\"\n",
        "    Path(table_index_dir).mkdir(parents=True, exist_ok=True)\n",
        "\n",
        "    vector_index_dict = {}\n",
        "    engine = sql_database.engine\n",
        "\n",
        "    for table_name in sql_database.get_usable_table_names():\n",
        "        print(f\"Indexing rows in table: {table_name}\")\n",
        "        table_path = Path(table_index_dir) / table_name\n",
        "\n",
        "        if not table_path.exists():\n",
        "            # Fetch all rows from the table\n",
        "            with engine.connect() as conn:\n",
        "                result = conn.execute(text(f'SELECT * FROM \"{table_name}\"'))\n",
        "                row_tuples = [tuple(row) for row in result.fetchall()]\n",
        "\n",
        "            # Create TextNode objects from rows\n",
        "            nodes = [TextNode(text=str(row)) for row in row_tuples]\n",
        "\n",
        "            # Build the index using current global Settings\n",
        "            index = VectorStoreIndex(nodes)\n",
        "\n",
        "            # Save index\n",
        "            index.set_index_id(\"vector_index\")\n",
        "            index.storage_context.persist(persist_dir=str(table_path))\n",
        "\n",
        "        else:\n",
        "            # Rebuild storage context from saved directory\n",
        "            storage_context = StorageContext.from_defaults(\n",
        "                persist_dir=str(table_path)\n",
        "            )\n",
        "\n",
        "            # Load existing index\n",
        "            index = load_index_from_storage(\n",
        "                storage_context, index_id=\"vector_index\"\n",
        "            )\n",
        "\n",
        "        vector_index_dict[table_name] = index\n",
        "\n",
        "    return vector_index_dict\n",
        "\n",
        "vector_index_dict = index_all_tables(sql_database)"
      ]
    },
    {
      "cell_type": "markdown",
      "id": "8bccd815",
      "metadata": {},
      "source": [
        "### Define Expanded Table Parser Component\n",
        "\n",
        "We expand the capability of our `table_parser_component` to not only return the relevant table schemas, but also return relevant rows per table schema.\n",
        "\n",
        "It now takes in both `table_schema_objs` (output of table retriever), but also the original `query_str` which will then be used for vector retrieval of relevant rows."
      ]
    },
    {
      "cell_type": "code",
      "execution_count": null,
      "id": "31906c11",
      "metadata": {},
      "outputs": [],
      "source": [
        "# from llama_index.retrievers import SQLRetriever\n",
        "# from llama_index.core.query_pipeline import FnComponent\n",
        "\n",
        "# sql_retriever = SQLRetriever(sql_database)\n",
        "\n",
        "\n",
        "# def get_table_context_and_rows_str(\n",
        "#     query_str: str, table_schema_objs: List[SQLTableSchema]\n",
        "# ):\n",
        "#     \"\"\"Get table context string.\"\"\"\n",
        "#     context_strs = []\n",
        "#     for table_schema_obj in table_schema_objs:\n",
        "#         # first append table info + additional context\n",
        "#         table_info = sql_database.get_single_table_info(\n",
        "#             table_schema_obj.table_name\n",
        "#         )\n",
        "#         if table_schema_obj.context_str:\n",
        "#             table_opt_context = \" The table description is: \"\n",
        "#             table_opt_context += table_schema_obj.context_str\n",
        "#             table_info += table_opt_context\n",
        "\n",
        "#         # also lookup vector index to return relevant table rows\n",
        "#         vector_retriever = vector_index_dict[\n",
        "#             table_schema_obj.table_name\n",
        "#         ].as_retriever(similarity_top_k=2)\n",
        "#         relevant_nodes = vector_retriever.retrieve(query_str)\n",
        "#         if len(relevant_nodes) > 0:\n",
        "#             table_row_context = \"\\nHere are some relevant example rows (values in the same order as columns above)\\n\"\n",
        "#             for node in relevant_nodes:\n",
        "#                 table_row_context += str(node.get_content()) + \"\\n\"\n",
        "#             table_info += table_row_context\n",
        "\n",
        "#         context_strs.append(table_info)\n",
        "#     return \"\\n\\n\".join(context_strs)\n",
        "\n",
        "\n",
        "# table_parser_component = FnComponent(fn=get_table_context_and_rows_str)"
      ]
    },
    {
      "cell_type": "code",
      "execution_count": 21,
      "id": "3af45ed3",
      "metadata": {},
      "outputs": [
        {
          "ename": "WorkflowValidationError",
          "evalue": "Step signature must have at least one parameter annotated as type Event",
          "output_type": "error",
          "traceback": [
            "\u001b[31m---------------------------------------------------------------------------\u001b[39m",
            "\u001b[31mWorkflowValidationError\u001b[39m                   Traceback (most recent call last)",
            "\u001b[36mCell\u001b[39m\u001b[36m \u001b[39m\u001b[32mIn[21]\u001b[39m\u001b[32m, line 1\u001b[39m\n\u001b[32m----> \u001b[39m\u001b[32m1\u001b[39m \u001b[38;5;129;43m@step\u001b[39;49m\n\u001b[32m      2\u001b[39m \u001b[38;5;28;43;01mdef\u001b[39;49;00m\u001b[38;5;250;43m \u001b[39;49m\u001b[34;43mget_table_context_and_rows_str_step\u001b[39;49m\u001b[43m(\u001b[49m\u001b[43mquery_str\u001b[49m\u001b[43m:\u001b[49m\u001b[43m \u001b[49m\u001b[38;5;28;43mstr\u001b[39;49m\u001b[43m,\u001b[49m\u001b[43m \u001b[49m\u001b[43mtable_schema_objs\u001b[49m\u001b[43m:\u001b[49m\u001b[43m \u001b[49m\u001b[43mList\u001b[49m\u001b[43m[\u001b[49m\u001b[43mSQLTableSchema\u001b[49m\u001b[43m]\u001b[49m\u001b[43m)\u001b[49m\u001b[43m \u001b[49m\u001b[43m-\u001b[49m\u001b[43m>\u001b[49m\u001b[43m \u001b[49m\u001b[38;5;28;43mstr\u001b[39;49m\u001b[43m:\u001b[49m\n\u001b[32m      3\u001b[39m \u001b[43m    \u001b[49m\u001b[43mcontext_strs\u001b[49m\u001b[43m \u001b[49m\u001b[43m=\u001b[49m\u001b[43m \u001b[49m\u001b[43m[\u001b[49m\u001b[43m]\u001b[49m\n\u001b[32m      4\u001b[39m \u001b[43m    \u001b[49m\u001b[38;5;28;43;01mfor\u001b[39;49;00m\u001b[43m \u001b[49m\u001b[43mtable_schema_obj\u001b[49m\u001b[43m \u001b[49m\u001b[38;5;129;43;01min\u001b[39;49;00m\u001b[43m \u001b[49m\u001b[43mtable_schema_objs\u001b[49m\u001b[43m:\u001b[49m\n",
            "\u001b[36mFile \u001b[39m\u001b[32mc:\\Users\\Hp\\Documents\\GitHub\\rag_text-2-sql\\rag\\Lib\\site-packages\\llama_index\\core\\workflow\\decorators.py:10\u001b[39m, in \u001b[36mstep\u001b[39m\u001b[34m(*args, **kwargs)\u001b[39m\n\u001b[32m      7\u001b[39m \u001b[38;5;28;01mdef\u001b[39;00m\u001b[38;5;250m \u001b[39m\u001b[34mstep\u001b[39m(*args: Any, **kwargs: Any) -> Callable:\n\u001b[32m      8\u001b[39m     \u001b[38;5;66;03m# Remove old, unused parameter\u001b[39;00m\n\u001b[32m      9\u001b[39m     kwargs.pop(\u001b[33m\"\u001b[39m\u001b[33mpass_context\u001b[39m\u001b[33m\"\u001b[39m, \u001b[38;5;28;01mNone\u001b[39;00m)\n\u001b[32m---> \u001b[39m\u001b[32m10\u001b[39m     \u001b[38;5;28;01mreturn\u001b[39;00m \u001b[43mupstream_step\u001b[49m\u001b[43m(\u001b[49m\u001b[43m*\u001b[49m\u001b[43margs\u001b[49m\u001b[43m,\u001b[49m\u001b[43m \u001b[49m\u001b[43m*\u001b[49m\u001b[43m*\u001b[49m\u001b[43mkwargs\u001b[49m\u001b[43m)\u001b[49m\n",
            "\u001b[36mFile \u001b[39m\u001b[32mc:\\Users\\Hp\\Documents\\GitHub\\rag_text-2-sql\\rag\\Lib\\site-packages\\workflows\\decorators.py:97\u001b[39m, in \u001b[36mstep\u001b[39m\u001b[34m(workflow, num_workers, retry_policy, *args)\u001b[39m\n\u001b[32m     94\u001b[39m \u001b[38;5;28;01mif\u001b[39;00m \u001b[38;5;28mlen\u001b[39m(args):\n\u001b[32m     95\u001b[39m     \u001b[38;5;66;03m# The decorator was used without parentheses, like `@step`\u001b[39;00m\n\u001b[32m     96\u001b[39m     func = args[\u001b[32m0\u001b[39m]\n\u001b[32m---> \u001b[39m\u001b[32m97\u001b[39m     \u001b[43mdecorator\u001b[49m\u001b[43m(\u001b[49m\u001b[43mfunc\u001b[49m\u001b[43m)\u001b[49m\n\u001b[32m     98\u001b[39m     \u001b[38;5;28;01mreturn\u001b[39;00m func\n\u001b[32m     99\u001b[39m \u001b[38;5;28;01mreturn\u001b[39;00m decorator\n",
            "\u001b[36mFile \u001b[39m\u001b[32mc:\\Users\\Hp\\Documents\\GitHub\\rag_text-2-sql\\rag\\Lib\\site-packages\\workflows\\decorators.py:69\u001b[39m, in \u001b[36mstep.<locals>.decorator\u001b[39m\u001b[34m(func)\u001b[39m\n\u001b[32m     67\u001b[39m \u001b[38;5;66;03m# This will raise providing a message with the specific validation failure\u001b[39;00m\n\u001b[32m     68\u001b[39m spec = inspect_signature(func)\n\u001b[32m---> \u001b[39m\u001b[32m69\u001b[39m \u001b[43mvalidate_step_signature\u001b[49m\u001b[43m(\u001b[49m\u001b[43mspec\u001b[49m\u001b[43m)\u001b[49m\n\u001b[32m     70\u001b[39m event_name, accepted_events = \u001b[38;5;28mnext\u001b[39m(\u001b[38;5;28miter\u001b[39m(spec.accepted_events.items()))\n\u001b[32m     72\u001b[39m \u001b[38;5;66;03m# store the configuration in the function object\u001b[39;00m\n",
            "\u001b[36mFile \u001b[39m\u001b[32mc:\\Users\\Hp\\Documents\\GitHub\\rag_text-2-sql\\rag\\Lib\\site-packages\\workflows\\utils.py:177\u001b[39m, in \u001b[36mvalidate_step_signature\u001b[39m\u001b[34m(spec)\u001b[39m\n\u001b[32m    175\u001b[39m \u001b[38;5;28;01mif\u001b[39;00m num_of_events == \u001b[32m0\u001b[39m:\n\u001b[32m    176\u001b[39m     msg = \u001b[33m\"\u001b[39m\u001b[33mStep signature must have at least one parameter annotated as type Event\u001b[39m\u001b[33m\"\u001b[39m\n\u001b[32m--> \u001b[39m\u001b[32m177\u001b[39m     \u001b[38;5;28;01mraise\u001b[39;00m WorkflowValidationError(msg)\n\u001b[32m    178\u001b[39m \u001b[38;5;28;01melif\u001b[39;00m num_of_events > \u001b[32m1\u001b[39m:\n\u001b[32m    179\u001b[39m     msg = \u001b[33mf\u001b[39m\u001b[33m\"\u001b[39m\u001b[33mStep signature must contain exactly one parameter of type Event but found \u001b[39m\u001b[38;5;132;01m{\u001b[39;00mnum_of_events\u001b[38;5;132;01m}\u001b[39;00m\u001b[33m.\u001b[39m\u001b[33m\"\u001b[39m\n",
            "\u001b[31mWorkflowValidationError\u001b[39m: Step signature must have at least one parameter annotated as type Event"
          ]
        }
      ],
      "source": [
        "@step\n",
        "def get_table_context_and_rows_str_step(query_str: str, table_schema_objs: List[SQLTableSchema]) -> str:\n",
        "    context_strs = []\n",
        "    for table_schema_obj in table_schema_objs:\n",
        "        table_info = sql_database.get_single_table_info(table_schema_obj.table_name)\n",
        "        if table_schema_obj.context_str:\n",
        "            table_info += \" The table description is: \" + table_schema_obj.context_str\n",
        "\n",
        "        vector_retriever = vector_index_dict[table_schema_obj.table_name].as_retriever(similarity_top_k=2)\n",
        "        relevant_nodes = vector_retriever.retrieve(query_str)\n",
        "\n",
        "        if relevant_nodes:\n",
        "            table_info += \"\\nHere are some relevant example rows (values in the same order as columns above)\\n\"\n",
        "            for node in relevant_nodes:\n",
        "                table_info += str(node.get_content()) + \"\\n\"\n",
        "\n",
        "        context_strs.append(table_info)\n",
        "\n",
        "    return \"\\n\\n\".join(context_strs)\n",
        "\n",
        "wf = Workflow()\n",
        "wf.add_step(\"get_table_context\", get_table_context_and_rows_str_step)"
      ]
    },
    {
      "cell_type": "code",
      "execution_count": null,
      "id": "b542e021",
      "metadata": {},
      "outputs": [],
      "source": [
        "result = wf.run(inputs={\"query_str\": \"your question\", \"table_schema_objs\": table_schema_objs})\n",
        "print(result[\"get_table_context\"])"
      ]
    },
    {
      "cell_type": "markdown",
      "id": "ab71cf00",
      "metadata": {},
      "source": [
        "### Define Expanded Query Pipeline\n",
        "\n",
        "This looks similar to the query pipeline in section 1, but with an upgraded table_parser_component."
      ]
    },
    {
      "cell_type": "code",
      "execution_count": null,
      "id": "054bcc1c",
      "metadata": {},
      "outputs": [],
      "source": [
        "from llama_index.query_pipeline import (\n",
        "    QueryPipeline as QP,\n",
        "    Link,\n",
        "    InputComponent,\n",
        "    CustomQueryComponent,\n",
        ")\n",
        "\n",
        "qp.add_modules({\n",
        "    \"input\": InputComponent(),\n",
        "    \"table_retriever\": obj_retriever,\n",
        "    \"table_output_parser\": table_parser_component,\n",
        "    \"text2sql_prompt\": text2sql_prompt,\n",
        "    \"text2sql_llm\": Settings.llm,\n",
        "    \"sql_output_parser\": sql_parser_component,\n",
        "    \"sql_retriever\": sql_retriever,\n",
        "    \"response_synthesis_prompt\": response_synthesis_prompt,\n",
        "    \"response_synthesis_llm\": Settings.llm,\n",
        "})"
      ]
    },
    {
      "cell_type": "code",
      "execution_count": null,
      "id": "228a98cc",
      "metadata": {},
      "outputs": [],
      "source": [
        "qp.add_link(\"input\", \"table_retriever\")\n",
        "qp.add_link(\"input\", \"table_output_parser\", dest_key=\"query_str\")\n",
        "qp.add_link(\n",
        "    \"table_retriever\", \"table_output_parser\", dest_key=\"table_schema_objs\"\n",
        ")\n",
        "qp.add_link(\"input\", \"text2sql_prompt\", dest_key=\"query_str\")\n",
        "qp.add_link(\"table_output_parser\", \"text2sql_prompt\", dest_key=\"schema\")\n",
        "qp.add_chain(\n",
        "    [\"text2sql_prompt\", \"text2sql_llm\", \"sql_output_parser\", \"sql_retriever\"]\n",
        ")\n",
        "qp.add_link(\n",
        "    \"sql_output_parser\", \"response_synthesis_prompt\", dest_key=\"sql_query\"\n",
        ")\n",
        "qp.add_link(\n",
        "    \"sql_retriever\", \"response_synthesis_prompt\", dest_key=\"context_str\"\n",
        ")\n",
        "qp.add_link(\"input\", \"response_synthesis_prompt\", dest_key=\"query_str\")\n",
        "qp.add_link(\"response_synthesis_prompt\", \"response_synthesis_llm\")"
      ]
    },
    {
      "cell_type": "code",
      "execution_count": null,
      "id": "3bf3d1b5",
      "metadata": {},
      "outputs": [],
      "source": [
        "from pyvis.network import Network\n",
        "\n",
        "net = Network(notebook=True, cdn_resources=\"in_line\", directed=True)\n",
        "net.from_nx(qp.dag)\n",
        "net.show(\"text2sql_dag.html\")"
      ]
    },
    {
      "cell_type": "markdown",
      "id": "0cb9637d",
      "metadata": {},
      "source": [
        "### Run Some Queries\n",
        "\n",
        "We can now ask about relevant entries even if it doesn't exactly match the entry in the database."
      ]
    },
    {
      "cell_type": "code",
      "execution_count": null,
      "id": "acc69a49",
      "metadata": {},
      "outputs": [],
      "source": [
        "response = qp.run(\n",
        "    query=\"What was the year that The Notorious BIG was signed to Bad Boy?\"\n",
        ")\n",
        "print(str(response))"
      ]
    }
  ],
  "metadata": {
    "colab": {
      "provenance": []
    },
    "kernelspec": {
      "display_name": "rag",
      "language": "python",
      "name": "python3"
    },
    "language_info": {
      "codemirror_mode": {
        "name": "ipython",
        "version": 3
      },
      "file_extension": ".py",
      "mimetype": "text/x-python",
      "name": "python",
      "nbconvert_exporter": "python",
      "pygments_lexer": "ipython3",
      "version": "3.11.4"
    }
  },
  "nbformat": 4,
  "nbformat_minor": 5
}
